{
 "cells": [
  {
   "cell_type": "code",
   "execution_count": 1,
   "id": "8629ce06",
   "metadata": {},
   "outputs": [],
   "source": [
    "import tensorflow as tf\n",
    "import keras\n",
    "from tensorflow.keras import models,layers\n",
    "import matplotlib.pyplot as plt\n",
    "from keras.preprocessing.image import ImageDataGenerator\n",
    "from keras.optimizers import Adam\n",
    "from keras.callbacks import ModelCheckpoint"
   ]
  },
  {
   "cell_type": "code",
   "execution_count": 2,
   "id": "aaf687b1",
   "metadata": {},
   "outputs": [],
   "source": [
    "train_data= r\"C:\\Users\\pavani\\OneDrive\\Pictures\\Train\""
   ]
  },
  {
   "cell_type": "code",
   "execution_count": 3,
   "id": "5a52ae78",
   "metadata": {},
   "outputs": [],
   "source": [
    "valid_data= r\"C:\\Users\\pavani\\OneDrive\\Pictures\\Valid\""
   ]
  },
  {
   "cell_type": "code",
   "execution_count": 4,
   "id": "189526f6",
   "metadata": {},
   "outputs": [],
   "source": [
    "training_gen=ImageDataGenerator(rescale=1.0/255,\n",
    "                               rotation_range=40,\n",
    "                               width_shift_range=0.2,\n",
    "                               height_shift_range=0.2)"
   ]
  },
  {
   "cell_type": "code",
   "execution_count": 5,
   "id": "6deeddc5",
   "metadata": {},
   "outputs": [
    {
     "name": "stdout",
     "output_type": "stream",
     "text": [
      "Found 18900 images belonging to 4 classes.\n"
     ]
    }
   ],
   "source": [
    "training_data=training_gen.flow_from_directory(train_data,target_size=(150,150),\n",
    "                                              batch_size=32,class_mode='categorical')"
   ]
  },
  {
   "cell_type": "code",
   "execution_count": 109,
   "id": "ceb06096",
   "metadata": {},
   "outputs": [
    {
     "data": {
      "text/plain": [
       "{'Potato___Early_blight': 0, 'Potato___Late_blight': 1, 'Potato___healthy': 2}"
      ]
     },
     "execution_count": 109,
     "metadata": {},
     "output_type": "execute_result"
    }
   ],
   "source": [
    "training_data.class_indices"
   ]
  },
  {
   "cell_type": "code",
   "execution_count": 7,
   "id": "fcd7f338",
   "metadata": {},
   "outputs": [],
   "source": [
    "valid_gen=ImageDataGenerator(rescale=1.0/255)"
   ]
  },
  {
   "cell_type": "code",
   "execution_count": 8,
   "id": "82abaa0b",
   "metadata": {},
   "outputs": [
    {
     "name": "stdout",
     "output_type": "stream",
     "text": [
      "Found 300 images belonging to 3 classes.\n"
     ]
    }
   ],
   "source": [
    "valid_data=valid_gen.flow_from_directory(valid_data,target_size=(150,150),\n",
    "                                        batch_size=32,class_mode='categorical')"
   ]
  },
  {
   "cell_type": "code",
   "execution_count": 9,
   "id": "6bf4b11d",
   "metadata": {},
   "outputs": [
    {
     "data": {
      "text/plain": [
       "{'Potato___Early_blight': 0, 'Potato___Late_blight': 1, 'Potato___healthy': 2}"
      ]
     },
     "execution_count": 9,
     "metadata": {},
     "output_type": "execute_result"
    }
   ],
   "source": [
    "valid_data.class_indices"
   ]
  },
  {
   "cell_type": "code",
   "execution_count": 116,
   "id": "9525ef3f",
   "metadata": {},
   "outputs": [],
   "source": [
    "cnn= keras.models.Sequential([\n",
    "                             keras.layers.Conv2D(filters=32,kernel_size=3,input_shape=[150,150,3]),\n",
    "                             keras.layers.MaxPooling2D(pool_size=(2,2)),\n",
    "                             keras.layers.Conv2D(filters=64,kernel_size=3),\n",
    "                             keras.layers.MaxPooling2D(pool_size=(2,2)),\n",
    "                             keras.layers.Conv2D(filters=128,kernel_size=3),\n",
    "                             keras.layers.MaxPooling2D(pool_size=(2,2)),\n",
    "    \n",
    "                             keras.layers.Dropout(0.5),\n",
    "                             keras.layers.Flatten(),\n",
    "                             keras.layers.Dense(units=128,activation='relu'),\n",
    "                             keras.layers.Dropout(0.1),\n",
    "                             keras.layers.Dense(units=256,activation='relu'),\n",
    "                             keras.layers.Dropout(0.25),\n",
    "                             keras.layers.Dense(units=3,activation='softmax')\n",
    "])"
   ]
  },
  {
   "cell_type": "code",
   "execution_count": 123,
   "id": "1e80f45a",
   "metadata": {},
   "outputs": [],
   "source": [
    "cnn.compile(optimizer='adam',loss='categorical_crossentropy',metrics=['accuracy'])"
   ]
  },
  {
   "cell_type": "code",
   "execution_count": 124,
   "id": "9cab1773",
   "metadata": {},
   "outputs": [
    {
     "name": "stdout",
     "output_type": "stream",
     "text": [
      "Model: \"sequential_2\"\n",
      "_________________________________________________________________\n",
      " Layer (type)                Output Shape              Param #   \n",
      "=================================================================\n",
      " conv2d (Conv2D)             (None, 148, 148, 32)      896       \n",
      "                                                                 \n",
      " max_pooling2d (MaxPooling2D  (None, 74, 74, 32)       0         \n",
      " )                                                               \n",
      "                                                                 \n",
      " conv2d_1 (Conv2D)           (None, 72, 72, 64)        18496     \n",
      "                                                                 \n",
      " max_pooling2d_1 (MaxPooling  (None, 36, 36, 64)       0         \n",
      " 2D)                                                             \n",
      "                                                                 \n",
      " conv2d_2 (Conv2D)           (None, 34, 34, 128)       73856     \n",
      "                                                                 \n",
      " max_pooling2d_2 (MaxPooling  (None, 17, 17, 128)      0         \n",
      " 2D)                                                             \n",
      "                                                                 \n",
      " dropout (Dropout)           (None, 17, 17, 128)       0         \n",
      "                                                                 \n",
      " flatten (Flatten)           (None, 36992)             0         \n",
      "                                                                 \n",
      " dense_3 (Dense)             (None, 128)               4735104   \n",
      "                                                                 \n",
      " dropout_1 (Dropout)         (None, 128)               0         \n",
      "                                                                 \n",
      " dense_4 (Dense)             (None, 256)               33024     \n",
      "                                                                 \n",
      " dropout_2 (Dropout)         (None, 256)               0         \n",
      "                                                                 \n",
      " dense_5 (Dense)             (None, 3)                 771       \n",
      "                                                                 \n",
      "=================================================================\n",
      "Total params: 4,862,147\n",
      "Trainable params: 4,862,147\n",
      "Non-trainable params: 0\n",
      "_________________________________________________________________\n"
     ]
    }
   ],
   "source": [
    "cnn.summary()"
   ]
  },
  {
   "cell_type": "code",
   "execution_count": 125,
   "id": "569d651f",
   "metadata": {},
   "outputs": [
    {
     "name": "stdout",
     "output_type": "stream",
     "text": [
      "Epoch 1/50\n",
      "29/29 [==============================] - 19s 624ms/step - loss: 1.1786 - accuracy: 0.4122 - val_loss: 0.7864 - val_accuracy: 0.6267\n",
      "Epoch 2/50\n",
      "29/29 [==============================] - 12s 425ms/step - loss: 0.7387 - accuracy: 0.6478 - val_loss: 0.4892 - val_accuracy: 0.7700\n",
      "Epoch 3/50\n",
      "29/29 [==============================] - 13s 435ms/step - loss: 0.5359 - accuracy: 0.7589 - val_loss: 0.2903 - val_accuracy: 0.8800\n",
      "Epoch 4/50\n",
      "29/29 [==============================] - 13s 440ms/step - loss: 0.3886 - accuracy: 0.8444 - val_loss: 0.3928 - val_accuracy: 0.8467\n",
      "Epoch 5/50\n",
      "29/29 [==============================] - 13s 434ms/step - loss: 0.4168 - accuracy: 0.8211 - val_loss: 0.3475 - val_accuracy: 0.8633\n",
      "Epoch 6/50\n",
      "29/29 [==============================] - 13s 431ms/step - loss: 0.2788 - accuracy: 0.8978 - val_loss: 0.3105 - val_accuracy: 0.8700\n",
      "Epoch 7/50\n",
      "29/29 [==============================] - 13s 431ms/step - loss: 0.3509 - accuracy: 0.8700 - val_loss: 0.5494 - val_accuracy: 0.7933\n",
      "Epoch 8/50\n",
      "29/29 [==============================] - 13s 440ms/step - loss: 0.3738 - accuracy: 0.8444 - val_loss: 0.7781 - val_accuracy: 0.7267\n",
      "Epoch 9/50\n",
      "29/29 [==============================] - 13s 447ms/step - loss: 0.2773 - accuracy: 0.8811 - val_loss: 0.1695 - val_accuracy: 0.9333\n",
      "Epoch 10/50\n",
      "29/29 [==============================] - 13s 444ms/step - loss: 0.2185 - accuracy: 0.9089 - val_loss: 0.3609 - val_accuracy: 0.8533\n",
      "Epoch 11/50\n",
      "29/29 [==============================] - 13s 442ms/step - loss: 0.1868 - accuracy: 0.9256 - val_loss: 0.1979 - val_accuracy: 0.9200\n",
      "Epoch 12/50\n",
      "29/29 [==============================] - 13s 438ms/step - loss: 0.2857 - accuracy: 0.9100 - val_loss: 0.3094 - val_accuracy: 0.8567\n",
      "Epoch 13/50\n",
      "29/29 [==============================] - 13s 444ms/step - loss: 0.2063 - accuracy: 0.9189 - val_loss: 0.5779 - val_accuracy: 0.8000\n",
      "Epoch 14/50\n",
      "29/29 [==============================] - 13s 464ms/step - loss: 0.1466 - accuracy: 0.9444 - val_loss: 0.2296 - val_accuracy: 0.9033\n",
      "Epoch 15/50\n",
      "29/29 [==============================] - 13s 450ms/step - loss: 0.1967 - accuracy: 0.9300 - val_loss: 0.5666 - val_accuracy: 0.8000\n",
      "Epoch 16/50\n",
      "29/29 [==============================] - 13s 444ms/step - loss: 0.2504 - accuracy: 0.9033 - val_loss: 0.3082 - val_accuracy: 0.8767\n",
      "Epoch 17/50\n",
      "29/29 [==============================] - 13s 441ms/step - loss: 0.3759 - accuracy: 0.8511 - val_loss: 0.2236 - val_accuracy: 0.9000\n",
      "Epoch 18/50\n",
      "29/29 [==============================] - 13s 445ms/step - loss: 0.2653 - accuracy: 0.8944 - val_loss: 1.0228 - val_accuracy: 0.7367\n",
      "Epoch 19/50\n",
      "29/29 [==============================] - 13s 449ms/step - loss: 0.2417 - accuracy: 0.9067 - val_loss: 0.5218 - val_accuracy: 0.8300\n",
      "Epoch 20/50\n",
      "29/29 [==============================] - 14s 467ms/step - loss: 0.2189 - accuracy: 0.9322 - val_loss: 0.3832 - val_accuracy: 0.8400\n",
      "Epoch 21/50\n",
      "29/29 [==============================] - 13s 446ms/step - loss: 0.1537 - accuracy: 0.9422 - val_loss: 0.3014 - val_accuracy: 0.8900\n",
      "Epoch 22/50\n",
      "29/29 [==============================] - 13s 447ms/step - loss: 0.1659 - accuracy: 0.9322 - val_loss: 0.2670 - val_accuracy: 0.8933\n",
      "Epoch 23/50\n",
      "29/29 [==============================] - 13s 442ms/step - loss: 0.1448 - accuracy: 0.9444 - val_loss: 0.3098 - val_accuracy: 0.8800\n",
      "Epoch 24/50\n",
      "29/29 [==============================] - 13s 448ms/step - loss: 0.1212 - accuracy: 0.9567 - val_loss: 0.4975 - val_accuracy: 0.8433\n",
      "Epoch 25/50\n",
      "29/29 [==============================] - 13s 451ms/step - loss: 0.1136 - accuracy: 0.9589 - val_loss: 0.6608 - val_accuracy: 0.8300\n",
      "Epoch 26/50\n",
      "29/29 [==============================] - 13s 450ms/step - loss: 0.1985 - accuracy: 0.9289 - val_loss: 0.4351 - val_accuracy: 0.8567\n",
      "Epoch 27/50\n",
      "29/29 [==============================] - 13s 446ms/step - loss: 0.2247 - accuracy: 0.9156 - val_loss: 0.4772 - val_accuracy: 0.7867\n",
      "Epoch 28/50\n",
      "29/29 [==============================] - 13s 448ms/step - loss: 0.2404 - accuracy: 0.9000 - val_loss: 0.2876 - val_accuracy: 0.8833\n",
      "Epoch 29/50\n",
      "29/29 [==============================] - 13s 454ms/step - loss: 0.1388 - accuracy: 0.9456 - val_loss: 0.2260 - val_accuracy: 0.9267\n",
      "Epoch 30/50\n",
      "29/29 [==============================] - 13s 449ms/step - loss: 0.1007 - accuracy: 0.9644 - val_loss: 0.1814 - val_accuracy: 0.9467\n",
      "Epoch 31/50\n",
      "29/29 [==============================] - 13s 454ms/step - loss: 0.1369 - accuracy: 0.9467 - val_loss: 0.1882 - val_accuracy: 0.9233\n",
      "Epoch 32/50\n",
      "29/29 [==============================] - 13s 455ms/step - loss: 0.1619 - accuracy: 0.9389 - val_loss: 0.3272 - val_accuracy: 0.8933\n",
      "Epoch 33/50\n",
      "29/29 [==============================] - 13s 452ms/step - loss: 0.1310 - accuracy: 0.9556 - val_loss: 0.3311 - val_accuracy: 0.8733\n",
      "Epoch 34/50\n",
      "29/29 [==============================] - 13s 446ms/step - loss: 0.1557 - accuracy: 0.9322 - val_loss: 0.5646 - val_accuracy: 0.8133\n",
      "Epoch 35/50\n",
      "29/29 [==============================] - 13s 444ms/step - loss: 0.1473 - accuracy: 0.9478 - val_loss: 0.3571 - val_accuracy: 0.8667\n",
      "Epoch 36/50\n",
      "29/29 [==============================] - 13s 452ms/step - loss: 0.1199 - accuracy: 0.9567 - val_loss: 0.3106 - val_accuracy: 0.8867\n",
      "Epoch 37/50\n",
      "29/29 [==============================] - 13s 458ms/step - loss: 0.1164 - accuracy: 0.9633 - val_loss: 0.4409 - val_accuracy: 0.8433\n",
      "Epoch 38/50\n",
      "29/29 [==============================] - 13s 460ms/step - loss: 0.0984 - accuracy: 0.9544 - val_loss: 0.4525 - val_accuracy: 0.8533\n",
      "Epoch 39/50\n",
      "29/29 [==============================] - 14s 477ms/step - loss: 0.2143 - accuracy: 0.9189 - val_loss: 0.3950 - val_accuracy: 0.8733\n",
      "Epoch 40/50\n",
      "29/29 [==============================] - 13s 451ms/step - loss: 0.1121 - accuracy: 0.9633 - val_loss: 0.1250 - val_accuracy: 0.9500\n",
      "Epoch 41/50\n",
      "29/29 [==============================] - 13s 454ms/step - loss: 0.1329 - accuracy: 0.9478 - val_loss: 0.4204 - val_accuracy: 0.8500\n",
      "Epoch 42/50\n",
      "29/29 [==============================] - 13s 451ms/step - loss: 0.1250 - accuracy: 0.9589 - val_loss: 0.2343 - val_accuracy: 0.9067\n",
      "Epoch 43/50\n",
      "29/29 [==============================] - 13s 461ms/step - loss: 0.1193 - accuracy: 0.9567 - val_loss: 0.3517 - val_accuracy: 0.8667\n",
      "Epoch 44/50\n",
      "29/29 [==============================] - 13s 455ms/step - loss: 0.1464 - accuracy: 0.9456 - val_loss: 0.5156 - val_accuracy: 0.8467\n",
      "Epoch 45/50\n",
      "29/29 [==============================] - 13s 454ms/step - loss: 0.1159 - accuracy: 0.9533 - val_loss: 0.6667 - val_accuracy: 0.8267\n",
      "Epoch 46/50\n",
      "29/29 [==============================] - 13s 457ms/step - loss: 0.1891 - accuracy: 0.9333 - val_loss: 0.2517 - val_accuracy: 0.9067\n",
      "Epoch 47/50\n",
      "29/29 [==============================] - 13s 456ms/step - loss: 0.2204 - accuracy: 0.9222 - val_loss: 0.1765 - val_accuracy: 0.9333\n",
      "Epoch 48/50\n",
      "29/29 [==============================] - 13s 453ms/step - loss: 0.1710 - accuracy: 0.9389 - val_loss: 0.1770 - val_accuracy: 0.9367\n",
      "Epoch 49/50\n",
      "29/29 [==============================] - 13s 460ms/step - loss: 0.1063 - accuracy: 0.9600 - val_loss: 0.1718 - val_accuracy: 0.9433\n",
      "Epoch 50/50\n",
      "29/29 [==============================] - 14s 463ms/step - loss: 0.1107 - accuracy: 0.9589 - val_loss: 0.2872 - val_accuracy: 0.9033\n"
     ]
    }
   ],
   "source": [
    "hist=cnn.fit(training_data,epochs=50,verbose=1,validation_data=valid_data)"
   ]
  },
  {
   "cell_type": "code",
   "execution_count": 150,
   "id": "182cf25b",
   "metadata": {},
   "outputs": [],
   "source": [
    "from tensorflow.keras.utils import load_img\n",
    "from tensorflow.keras.utils import img_to_array\n",
    "import numpy as np"
   ]
  },
  {
   "cell_type": "code",
   "execution_count": 164,
   "id": "1338edaf",
   "metadata": {},
   "outputs": [],
   "source": [
    "test_image=load_img(r\"C:\\Users\\pavani\\OneDrive\\Pictures\\Test\\Potato___Late_blight\\8829e413-5a7a-4680-b873-e71dfa9dbfe4___RS_LB 3974.JPG\",target_size=[150,150])"
   ]
  },
  {
   "cell_type": "code",
   "execution_count": 165,
   "id": "b5b08e87",
   "metadata": {},
   "outputs": [],
   "source": [
    "test_img=img_to_array(test_image)/255"
   ]
  },
  {
   "cell_type": "code",
   "execution_count": 166,
   "id": "ab391d5a",
   "metadata": {},
   "outputs": [],
   "source": [
    "test_imgarray=np.expand_dims(test_image,axis=0)"
   ]
  },
  {
   "cell_type": "code",
   "execution_count": 167,
   "id": "17333dba",
   "metadata": {},
   "outputs": [
    {
     "name": "stdout",
     "output_type": "stream",
     "text": [
      "1/1 [==============================] - 0s 41ms/step\n"
     ]
    }
   ],
   "source": [
    "result=cnn.predict(test_img).round(3)"
   ]
  },
  {
   "cell_type": "code",
   "execution_count": 168,
   "id": "dc7476a7",
   "metadata": {},
   "outputs": [],
   "source": [
    "pred=np.argmax(result)"
   ]
  },
  {
   "cell_type": "code",
   "execution_count": 169,
   "id": "905cf741",
   "metadata": {},
   "outputs": [
    {
     "data": {
      "text/plain": [
       "1"
      ]
     },
     "execution_count": 169,
     "metadata": {},
     "output_type": "execute_result"
    }
   ],
   "source": [
    "pred"
   ]
  }
 ],
 "metadata": {
  "kernelspec": {
   "display_name": "Python 3 (ipykernel)",
   "language": "python",
   "name": "python3"
  },
  "language_info": {
   "codemirror_mode": {
    "name": "ipython",
    "version": 3
   },
   "file_extension": ".py",
   "mimetype": "text/x-python",
   "name": "python",
   "nbconvert_exporter": "python",
   "pygments_lexer": "ipython3",
   "version": "3.9.7"
  }
 },
 "nbformat": 4,
 "nbformat_minor": 5
}
