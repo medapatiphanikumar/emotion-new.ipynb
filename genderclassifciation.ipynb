{
 "cells": [
  {
   "cell_type": "code",
   "execution_count": 1,
   "id": "eb07519b",
   "metadata": {},
   "outputs": [],
   "source": [
    "from tensorflow.keras.preprocessing.image import ImageDataGenerator\n",
    "from tensorflow.keras.models import Sequential\n",
    "from tensorflow.keras import layers\n",
    "from tensorflow.keras.layers import Conv2D,MaxPooling2D,Activation\n",
    "from tensorflow.keras.layers import Dense,Dropout,BatchNormalization,Flatten"
   ]
  },
  {
   "cell_type": "code",
   "execution_count": 2,
   "id": "cbd85770",
   "metadata": {},
   "outputs": [],
   "source": [
    "train_data = r\"C:\\Users\\pavani\\OneDrive\\Pictures\\gender traindata\"\n",
    "test_data = r\"C:\\Users\\pavani\\OneDrive\\Pictures\\gender validationdata\""
   ]
  },
  {
   "cell_type": "code",
   "execution_count": 3,
   "id": "af532a1b",
   "metadata": {},
   "outputs": [],
   "source": [
    "train_gen = ImageDataGenerator(rescale=1.0/255,\n",
    "                              height_shift_range=0.4,\n",
    "                              width_shift_range=0.4,\n",
    "                              rotation_range=40)"
   ]
  },
  {
   "cell_type": "code",
   "execution_count": 4,
   "id": "1f043285",
   "metadata": {},
   "outputs": [],
   "source": [
    "test_gen = ImageDataGenerator(rescale=1.0/255)"
   ]
  },
  {
   "cell_type": "code",
   "execution_count": 5,
   "id": "313aac66",
   "metadata": {},
   "outputs": [
    {
     "name": "stdout",
     "output_type": "stream",
     "text": [
      "Found 47017 images belonging to 2 classes.\n"
     ]
    }
   ],
   "source": [
    "trained_data = train_gen.flow_from_directory(train_data,target_size=(70,100),batch_size=64,class_mode='binary',color_mode='grayscale')"
   ]
  },
  {
   "cell_type": "code",
   "execution_count": 6,
   "id": "3c79f35e",
   "metadata": {},
   "outputs": [
    {
     "name": "stdout",
     "output_type": "stream",
     "text": [
      "Found 11649 images belonging to 2 classes.\n"
     ]
    }
   ],
   "source": [
    "tested_data = test_gen.flow_from_directory(test_data,target_size=(70,100),batch_size=64,class_mode='binary',color_mode='grayscale')"
   ]
  },
  {
   "cell_type": "code",
   "execution_count": 7,
   "id": "589facb3",
   "metadata": {},
   "outputs": [],
   "source": [
    "model = Sequential()\n",
    "\n",
    "model.add(Conv2D(32,(3,3),activation='relu',input_shape=(70,100,1)))\n",
    "model.add(MaxPooling2D(pool_size=3,strides=2))\n",
    "\n",
    "model.add(Conv2D(32,(3,3),activation='relu'))\n",
    "model.add(MaxPooling2D(pool_size=3,strides=2))\n",
    "\n",
    "model.add(Conv2D(32,(3,3),activation='relu'))\n",
    "model.add(MaxPooling2D(pool_size=3,strides=2))\n",
    "\n",
    "model.add(Conv2D(32,(3,3),activation='relu'))\n",
    "model.add(MaxPooling2D(pool_size=3,strides=2))\n",
    "\n",
    "model.add(layers.Flatten())\n",
    "\n",
    "model.add(Dense(64,activation='relu'))\n",
    "model.add(Dropout(0.2))\n",
    "model.add(BatchNormalization())\n",
    "\n",
    "model.add(Dense(128,activation='relu'))\n",
    "model.add(Dropout(0.2))\n",
    "model.add(BatchNormalization())\n",
    "\n",
    "model.add(Dense(256,activation='relu'))\n",
    "model.add(Dropout(0.2))\n",
    "model.add(BatchNormalization())\n",
    "\n",
    "model.add(Dense(1,activation='sigmoid'))"
   ]
  },
  {
   "cell_type": "code",
   "execution_count": 9,
   "id": "65415519",
   "metadata": {},
   "outputs": [],
   "source": [
    "model.compile(optimizer='adam',loss='binary_crossentropy',metrics=['accuracy'])"
   ]
  },
  {
   "cell_type": "code",
   "execution_count": 10,
   "id": "d107c27e",
   "metadata": {},
   "outputs": [],
   "source": [
    "from tensorflow.keras.callbacks import ModelCheckpoint"
   ]
  },
  {
   "cell_type": "code",
   "execution_count": 11,
   "id": "8c576006",
   "metadata": {},
   "outputs": [],
   "source": [
    "callback = ModelCheckpoint(monitor='val_accuracy',filepath='genderclass.h5',verbose=1,save_best_only=True,mode='auto')"
   ]
  },
  {
   "cell_type": "code",
   "execution_count": 12,
   "id": "267956ee",
   "metadata": {},
   "outputs": [
    {
     "name": "stdout",
     "output_type": "stream",
     "text": [
      "Epoch 1/20\n",
      "735/735 [==============================] - ETA: 0s - loss: 0.7343 - accuracy: 0.5304\n",
      "Epoch 1: val_accuracy improved from -inf to 0.57524, saving model to genderclass.h5\n",
      "735/735 [==============================] - 285s 379ms/step - loss: 0.7343 - accuracy: 0.5304 - val_loss: 0.6778 - val_accuracy: 0.5752\n",
      "Epoch 2/20\n",
      "735/735 [==============================] - ETA: 0s - loss: 0.6771 - accuracy: 0.5722\n",
      "Epoch 2: val_accuracy improved from 0.57524 to 0.65113, saving model to genderclass.h5\n",
      "735/735 [==============================] - 274s 373ms/step - loss: 0.6771 - accuracy: 0.5722 - val_loss: 0.6153 - val_accuracy: 0.6511\n",
      "Epoch 3/20\n",
      "735/735 [==============================] - ETA: 0s - loss: 0.5803 - accuracy: 0.6980\n",
      "Epoch 3: val_accuracy improved from 0.65113 to 0.72925, saving model to genderclass.h5\n",
      "735/735 [==============================] - 284s 386ms/step - loss: 0.5803 - accuracy: 0.6980 - val_loss: 0.5428 - val_accuracy: 0.7292\n",
      "Epoch 4/20\n",
      "735/735 [==============================] - ETA: 0s - loss: 0.4893 - accuracy: 0.7667\n",
      "Epoch 4: val_accuracy improved from 0.72925 to 0.82694, saving model to genderclass.h5\n",
      "735/735 [==============================] - 265s 360ms/step - loss: 0.4893 - accuracy: 0.7667 - val_loss: 0.3986 - val_accuracy: 0.8269\n",
      "Epoch 5/20\n",
      "735/735 [==============================] - ETA: 0s - loss: 0.4549 - accuracy: 0.7885\n",
      "Epoch 5: val_accuracy did not improve from 0.82694\n",
      "735/735 [==============================] - 175s 237ms/step - loss: 0.4549 - accuracy: 0.7885 - val_loss: 0.4652 - val_accuracy: 0.7949\n",
      "Epoch 6/20\n",
      "735/735 [==============================] - ETA: 0s - loss: 0.4392 - accuracy: 0.7993\n",
      "Epoch 6: val_accuracy improved from 0.82694 to 0.88385, saving model to genderclass.h5\n",
      "735/735 [==============================] - 158s 215ms/step - loss: 0.4392 - accuracy: 0.7993 - val_loss: 0.2837 - val_accuracy: 0.8839\n",
      "Epoch 7/20\n",
      "735/735 [==============================] - ETA: 0s - loss: 0.4217 - accuracy: 0.8078\n",
      "Epoch 7: val_accuracy did not improve from 0.88385\n",
      "735/735 [==============================] - 182s 247ms/step - loss: 0.4217 - accuracy: 0.8078 - val_loss: 0.5333 - val_accuracy: 0.7854\n",
      "Epoch 8/20\n",
      "735/735 [==============================] - ETA: 0s - loss: 0.4070 - accuracy: 0.8137\n",
      "Epoch 8: val_accuracy did not improve from 0.88385\n",
      "735/735 [==============================] - 179s 244ms/step - loss: 0.4070 - accuracy: 0.8137 - val_loss: 0.2880 - val_accuracy: 0.8764\n",
      "Epoch 9/20\n",
      "735/735 [==============================] - ETA: 0s - loss: 0.4069 - accuracy: 0.8165\n",
      "Epoch 9: val_accuracy improved from 0.88385 to 0.88857, saving model to genderclass.h5\n",
      "735/735 [==============================] - 157s 214ms/step - loss: 0.4069 - accuracy: 0.8165 - val_loss: 0.2761 - val_accuracy: 0.8886\n",
      "Epoch 10/20\n",
      "735/735 [==============================] - ETA: 0s - loss: 0.4004 - accuracy: 0.8165\n",
      "Epoch 10: val_accuracy did not improve from 0.88857\n",
      "735/735 [==============================] - 153s 209ms/step - loss: 0.4004 - accuracy: 0.8165 - val_loss: 0.2738 - val_accuracy: 0.8871\n",
      "Epoch 11/20\n",
      "735/735 [==============================] - ETA: 0s - loss: 0.3929 - accuracy: 0.8234\n",
      "Epoch 11: val_accuracy did not improve from 0.88857\n",
      "735/735 [==============================] - 165s 224ms/step - loss: 0.3929 - accuracy: 0.8234 - val_loss: 0.3027 - val_accuracy: 0.8714\n",
      "Epoch 12/20\n",
      "735/735 [==============================] - ETA: 0s - loss: 0.3870 - accuracy: 0.8280\n",
      "Epoch 12: val_accuracy did not improve from 0.88857\n",
      "735/735 [==============================] - 218s 296ms/step - loss: 0.3870 - accuracy: 0.8280 - val_loss: 0.2712 - val_accuracy: 0.8844\n",
      "Epoch 13/20\n",
      "735/735 [==============================] - ETA: 0s - loss: 0.3863 - accuracy: 0.8260\n",
      "Epoch 13: val_accuracy improved from 0.88857 to 0.89407, saving model to genderclass.h5\n",
      "735/735 [==============================] - 189s 257ms/step - loss: 0.3863 - accuracy: 0.8260 - val_loss: 0.2598 - val_accuracy: 0.8941\n",
      "Epoch 14/20\n",
      "735/735 [==============================] - ETA: 0s - loss: 0.3787 - accuracy: 0.8317\n",
      "Epoch 14: val_accuracy did not improve from 0.89407\n",
      "735/735 [==============================] - 205s 279ms/step - loss: 0.3787 - accuracy: 0.8317 - val_loss: 0.3293 - val_accuracy: 0.8725\n",
      "Epoch 15/20\n",
      "735/735 [==============================] - ETA: 0s - loss: 0.3764 - accuracy: 0.8330\n",
      "Epoch 15: val_accuracy did not improve from 0.89407\n",
      "735/735 [==============================] - 181s 246ms/step - loss: 0.3764 - accuracy: 0.8330 - val_loss: 0.5840 - val_accuracy: 0.7470\n",
      "Epoch 16/20\n",
      "735/735 [==============================] - ETA: 0s - loss: 0.3728 - accuracy: 0.8348\n",
      "Epoch 16: val_accuracy improved from 0.89407 to 0.90385, saving model to genderclass.h5\n",
      "735/735 [==============================] - 153s 209ms/step - loss: 0.3728 - accuracy: 0.8348 - val_loss: 0.2365 - val_accuracy: 0.9039\n",
      "Epoch 17/20\n",
      "735/735 [==============================] - ETA: 0s - loss: 0.3711 - accuracy: 0.8365\n",
      "Epoch 17: val_accuracy improved from 0.90385 to 0.90643, saving model to genderclass.h5\n",
      "735/735 [==============================] - 155s 210ms/step - loss: 0.3711 - accuracy: 0.8365 - val_loss: 0.2341 - val_accuracy: 0.9064\n",
      "Epoch 18/20\n",
      "735/735 [==============================] - ETA: 0s - loss: 0.3652 - accuracy: 0.8384\n",
      "Epoch 18: val_accuracy did not improve from 0.90643\n",
      "735/735 [==============================] - 155s 211ms/step - loss: 0.3652 - accuracy: 0.8384 - val_loss: 0.3446 - val_accuracy: 0.8676\n",
      "Epoch 19/20\n",
      "735/735 [==============================] - ETA: 0s - loss: 0.3653 - accuracy: 0.8394\n",
      "Epoch 19: val_accuracy did not improve from 0.90643\n",
      "735/735 [==============================] - 167s 227ms/step - loss: 0.3653 - accuracy: 0.8394 - val_loss: 0.2509 - val_accuracy: 0.8993\n",
      "Epoch 20/20\n",
      "735/735 [==============================] - ETA: 0s - loss: 0.3618 - accuracy: 0.8413\n",
      "Epoch 20: val_accuracy did not improve from 0.90643\n",
      "735/735 [==============================] - 174s 237ms/step - loss: 0.3618 - accuracy: 0.8413 - val_loss: 0.2473 - val_accuracy: 0.8999\n"
     ]
    }
   ],
   "source": [
    "hist = model.fit(trained_data,validation_data=tested_data,epochs=20,callbacks=[callback])"
   ]
  },
  {
   "cell_type": "code",
   "execution_count": 13,
   "id": "35591413",
   "metadata": {},
   "outputs": [],
   "source": [
    "from tensorflow.keras.utils import load_img\n",
    "from tensorflow.keras.utils import img_to_array\n",
    "import numpy as np"
   ]
  },
  {
   "cell_type": "code",
   "execution_count": 69,
   "id": "447c0e80",
   "metadata": {},
   "outputs": [],
   "source": [
    "test_image=load_img(r\"C:\\Users\\pavani\\OneDrive\\Pictures\\gender traindata\\male\\090720.jpg.jpg\",target_size=(70,100),color_mode='grayscale')"
   ]
  },
  {
   "cell_type": "code",
   "execution_count": 70,
   "id": "6d3eb13f",
   "metadata": {},
   "outputs": [],
   "source": [
    "test_img=img_to_array(test_image)/255"
   ]
  },
  {
   "cell_type": "code",
   "execution_count": 71,
   "id": "4369ca0a",
   "metadata": {},
   "outputs": [],
   "source": [
    "test_img1=np.expand_dims(test_img,axis=0)"
   ]
  },
  {
   "cell_type": "code",
   "execution_count": 72,
   "id": "4674c05c",
   "metadata": {},
   "outputs": [],
   "source": [
    "images= np.vstack([test_img1])"
   ]
  },
  {
   "cell_type": "code",
   "execution_count": 73,
   "id": "bdd734ff",
   "metadata": {},
   "outputs": [
    {
     "name": "stdout",
     "output_type": "stream",
     "text": [
      "1/1 [==============================] - 0s 18ms/step\n"
     ]
    }
   ],
   "source": [
    "out= model.predict(images)"
   ]
  },
  {
   "cell_type": "code",
   "execution_count": 74,
   "id": "3675bba3",
   "metadata": {},
   "outputs": [
    {
     "data": {
      "text/plain": [
       "array([[0.99328893]], dtype=float32)"
      ]
     },
     "execution_count": 74,
     "metadata": {},
     "output_type": "execute_result"
    }
   ],
   "source": [
    "out"
   ]
  },
  {
   "cell_type": "code",
   "execution_count": 44,
   "id": "96b48c5c",
   "metadata": {},
   "outputs": [
    {
     "data": {
      "text/plain": [
       "{'female': 0, 'male': 1}"
      ]
     },
     "execution_count": 44,
     "metadata": {},
     "output_type": "execute_result"
    }
   ],
   "source": [
    "trained_data.class_indices"
   ]
  },
  {
   "cell_type": "code",
   "execution_count": null,
   "id": "3a794eb6",
   "metadata": {},
   "outputs": [],
   "source": []
  }
 ],
 "metadata": {
  "kernelspec": {
   "display_name": "Python 3 (ipykernel)",
   "language": "python",
   "name": "python3"
  },
  "language_info": {
   "codemirror_mode": {
    "name": "ipython",
    "version": 3
   },
   "file_extension": ".py",
   "mimetype": "text/x-python",
   "name": "python",
   "nbconvert_exporter": "python",
   "pygments_lexer": "ipython3",
   "version": "3.9.13"
  }
 },
 "nbformat": 4,
 "nbformat_minor": 5
}
