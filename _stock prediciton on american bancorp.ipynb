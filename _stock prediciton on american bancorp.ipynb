{
 "cells": [
  {
   "cell_type": "code",
   "execution_count": 5,
   "id": "e94583b1",
   "metadata": {},
   "outputs": [],
   "source": [
    "import pandas as pd\n",
    "#import pandas_datareader as pdr---- this library is used to read from stock point data"
   ]
  },
  {
   "cell_type": "code",
   "execution_count": 3,
   "id": "f9cbc712",
   "metadata": {},
   "outputs": [],
   "source": [
    "df = pd.read_csv(r\"C:\\Users\\pavani\\OneDrive\\Documents\\ABCB.csv\")"
   ]
  },
  {
   "cell_type": "code",
   "execution_count": 4,
   "id": "c900e7ea",
   "metadata": {},
   "outputs": [
    {
     "data": {
      "text/html": [
       "<div>\n",
       "<style scoped>\n",
       "    .dataframe tbody tr th:only-of-type {\n",
       "        vertical-align: middle;\n",
       "    }\n",
       "\n",
       "    .dataframe tbody tr th {\n",
       "        vertical-align: top;\n",
       "    }\n",
       "\n",
       "    .dataframe thead th {\n",
       "        text-align: right;\n",
       "    }\n",
       "</style>\n",
       "<table border=\"1\" class=\"dataframe\">\n",
       "  <thead>\n",
       "    <tr style=\"text-align: right;\">\n",
       "      <th></th>\n",
       "      <th>Date</th>\n",
       "      <th>Low</th>\n",
       "      <th>Open</th>\n",
       "      <th>Volume</th>\n",
       "      <th>High</th>\n",
       "      <th>Close</th>\n",
       "      <th>Adjusted Close</th>\n",
       "    </tr>\n",
       "  </thead>\n",
       "  <tbody>\n",
       "    <tr>\n",
       "      <th>0</th>\n",
       "      <td>19-05-1994</td>\n",
       "      <td>5.065844</td>\n",
       "      <td>5.065844</td>\n",
       "      <td>134232</td>\n",
       "      <td>5.369794</td>\n",
       "      <td>5.268477</td>\n",
       "      <td>3.038053</td>\n",
       "    </tr>\n",
       "    <tr>\n",
       "      <th>1</th>\n",
       "      <td>20-05-1994</td>\n",
       "      <td>5.065844</td>\n",
       "      <td>5.167161</td>\n",
       "      <td>54285</td>\n",
       "      <td>5.369794</td>\n",
       "      <td>5.268477</td>\n",
       "      <td>3.038053</td>\n",
       "    </tr>\n",
       "    <tr>\n",
       "      <th>2</th>\n",
       "      <td>23-05-1994</td>\n",
       "      <td>5.065844</td>\n",
       "      <td>5.268477</td>\n",
       "      <td>16532</td>\n",
       "      <td>5.268477</td>\n",
       "      <td>5.065844</td>\n",
       "      <td>2.921204</td>\n",
       "    </tr>\n",
       "    <tr>\n",
       "      <th>3</th>\n",
       "      <td>24-05-1994</td>\n",
       "      <td>5.065844</td>\n",
       "      <td>5.268477</td>\n",
       "      <td>7649</td>\n",
       "      <td>5.268477</td>\n",
       "      <td>5.065844</td>\n",
       "      <td>2.921204</td>\n",
       "    </tr>\n",
       "    <tr>\n",
       "      <th>4</th>\n",
       "      <td>25-05-1994</td>\n",
       "      <td>5.065844</td>\n",
       "      <td>5.167161</td>\n",
       "      <td>13325</td>\n",
       "      <td>5.167161</td>\n",
       "      <td>5.065844</td>\n",
       "      <td>2.921204</td>\n",
       "    </tr>\n",
       "    <tr>\n",
       "      <th>...</th>\n",
       "      <td>...</td>\n",
       "      <td>...</td>\n",
       "      <td>...</td>\n",
       "      <td>...</td>\n",
       "      <td>...</td>\n",
       "      <td>...</td>\n",
       "      <td>...</td>\n",
       "    </tr>\n",
       "    <tr>\n",
       "      <th>7189</th>\n",
       "      <td>06-12-2022</td>\n",
       "      <td>49.919998</td>\n",
       "      <td>50.560001</td>\n",
       "      <td>379200</td>\n",
       "      <td>50.849998</td>\n",
       "      <td>50.310001</td>\n",
       "      <td>50.310001</td>\n",
       "    </tr>\n",
       "    <tr>\n",
       "      <th>7190</th>\n",
       "      <td>07-12-2022</td>\n",
       "      <td>49.720001</td>\n",
       "      <td>50.070000</td>\n",
       "      <td>221900</td>\n",
       "      <td>50.759998</td>\n",
       "      <td>50.360001</td>\n",
       "      <td>50.360001</td>\n",
       "    </tr>\n",
       "    <tr>\n",
       "      <th>7191</th>\n",
       "      <td>08-12-2022</td>\n",
       "      <td>50.000000</td>\n",
       "      <td>50.540001</td>\n",
       "      <td>362000</td>\n",
       "      <td>51.040001</td>\n",
       "      <td>50.320000</td>\n",
       "      <td>50.320000</td>\n",
       "    </tr>\n",
       "    <tr>\n",
       "      <th>7192</th>\n",
       "      <td>09-12-2022</td>\n",
       "      <td>49.830002</td>\n",
       "      <td>50.000000</td>\n",
       "      <td>264500</td>\n",
       "      <td>50.669998</td>\n",
       "      <td>50.259998</td>\n",
       "      <td>50.259998</td>\n",
       "    </tr>\n",
       "    <tr>\n",
       "      <th>7193</th>\n",
       "      <td>12-12-2022</td>\n",
       "      <td>49.900002</td>\n",
       "      <td>50.430000</td>\n",
       "      <td>46643</td>\n",
       "      <td>50.625000</td>\n",
       "      <td>50.340000</td>\n",
       "      <td>50.340000</td>\n",
       "    </tr>\n",
       "  </tbody>\n",
       "</table>\n",
       "<p>7194 rows × 7 columns</p>\n",
       "</div>"
      ],
      "text/plain": [
       "            Date        Low       Open  Volume       High      Close  \\\n",
       "0     19-05-1994   5.065844   5.065844  134232   5.369794   5.268477   \n",
       "1     20-05-1994   5.065844   5.167161   54285   5.369794   5.268477   \n",
       "2     23-05-1994   5.065844   5.268477   16532   5.268477   5.065844   \n",
       "3     24-05-1994   5.065844   5.268477    7649   5.268477   5.065844   \n",
       "4     25-05-1994   5.065844   5.167161   13325   5.167161   5.065844   \n",
       "...          ...        ...        ...     ...        ...        ...   \n",
       "7189  06-12-2022  49.919998  50.560001  379200  50.849998  50.310001   \n",
       "7190  07-12-2022  49.720001  50.070000  221900  50.759998  50.360001   \n",
       "7191  08-12-2022  50.000000  50.540001  362000  51.040001  50.320000   \n",
       "7192  09-12-2022  49.830002  50.000000  264500  50.669998  50.259998   \n",
       "7193  12-12-2022  49.900002  50.430000   46643  50.625000  50.340000   \n",
       "\n",
       "      Adjusted Close  \n",
       "0           3.038053  \n",
       "1           3.038053  \n",
       "2           2.921204  \n",
       "3           2.921204  \n",
       "4           2.921204  \n",
       "...              ...  \n",
       "7189       50.310001  \n",
       "7190       50.360001  \n",
       "7191       50.320000  \n",
       "7192       50.259998  \n",
       "7193       50.340000  \n",
       "\n",
       "[7194 rows x 7 columns]"
      ]
     },
     "execution_count": 4,
     "metadata": {},
     "output_type": "execute_result"
    }
   ],
   "source": [
    "df"
   ]
  },
  {
   "cell_type": "code",
   "execution_count": 6,
   "id": "753664af",
   "metadata": {},
   "outputs": [
    {
     "name": "stdout",
     "output_type": "stream",
     "text": [
      "<class 'pandas.core.frame.DataFrame'>\n",
      "RangeIndex: 7194 entries, 0 to 7193\n",
      "Data columns (total 7 columns):\n",
      " #   Column          Non-Null Count  Dtype  \n",
      "---  ------          --------------  -----  \n",
      " 0   Date            7194 non-null   object \n",
      " 1   Low             7194 non-null   float64\n",
      " 2   Open            7194 non-null   float64\n",
      " 3   Volume          7194 non-null   int64  \n",
      " 4   High            7194 non-null   float64\n",
      " 5   Close           7194 non-null   float64\n",
      " 6   Adjusted Close  7194 non-null   float64\n",
      "dtypes: float64(5), int64(1), object(1)\n",
      "memory usage: 393.5+ KB\n"
     ]
    }
   ],
   "source": [
    "df.info()"
   ]
  },
  {
   "cell_type": "code",
   "execution_count": 7,
   "id": "de4fe238",
   "metadata": {},
   "outputs": [
    {
     "data": {
      "text/html": [
       "<div>\n",
       "<style scoped>\n",
       "    .dataframe tbody tr th:only-of-type {\n",
       "        vertical-align: middle;\n",
       "    }\n",
       "\n",
       "    .dataframe tbody tr th {\n",
       "        vertical-align: top;\n",
       "    }\n",
       "\n",
       "    .dataframe thead th {\n",
       "        text-align: right;\n",
       "    }\n",
       "</style>\n",
       "<table border=\"1\" class=\"dataframe\">\n",
       "  <thead>\n",
       "    <tr style=\"text-align: right;\">\n",
       "      <th></th>\n",
       "      <th>Low</th>\n",
       "      <th>Open</th>\n",
       "      <th>Volume</th>\n",
       "      <th>High</th>\n",
       "      <th>Close</th>\n",
       "      <th>Adjusted Close</th>\n",
       "    </tr>\n",
       "  </thead>\n",
       "  <tbody>\n",
       "    <tr>\n",
       "      <th>count</th>\n",
       "      <td>7194.000000</td>\n",
       "      <td>7194.000000</td>\n",
       "      <td>7.194000e+03</td>\n",
       "      <td>7194.000000</td>\n",
       "      <td>7194.000000</td>\n",
       "      <td>7194.000000</td>\n",
       "    </tr>\n",
       "    <tr>\n",
       "      <th>mean</th>\n",
       "      <td>19.857832</td>\n",
       "      <td>20.159893</td>\n",
       "      <td>1.103076e+05</td>\n",
       "      <td>20.442681</td>\n",
       "      <td>20.160092</td>\n",
       "      <td>18.038728</td>\n",
       "    </tr>\n",
       "    <tr>\n",
       "      <th>std</th>\n",
       "      <td>14.001880</td>\n",
       "      <td>14.192495</td>\n",
       "      <td>1.910818e+05</td>\n",
       "      <td>14.367590</td>\n",
       "      <td>14.192230</td>\n",
       "      <td>14.559369</td>\n",
       "    </tr>\n",
       "    <tr>\n",
       "      <th>min</th>\n",
       "      <td>3.355615</td>\n",
       "      <td>3.618228</td>\n",
       "      <td>0.000000e+00</td>\n",
       "      <td>3.890568</td>\n",
       "      <td>3.559870</td>\n",
       "      <td>2.862780</td>\n",
       "    </tr>\n",
       "    <tr>\n",
       "      <th>25%</th>\n",
       "      <td>9.456241</td>\n",
       "      <td>9.591331</td>\n",
       "      <td>9.377000e+03</td>\n",
       "      <td>9.752028</td>\n",
       "      <td>9.610000</td>\n",
       "      <td>6.998756</td>\n",
       "    </tr>\n",
       "    <tr>\n",
       "      <th>50%</th>\n",
       "      <td>13.454881</td>\n",
       "      <td>13.722126</td>\n",
       "      <td>3.320950e+04</td>\n",
       "      <td>13.896622</td>\n",
       "      <td>13.717126</td>\n",
       "      <td>11.726768</td>\n",
       "    </tr>\n",
       "    <tr>\n",
       "      <th>75%</th>\n",
       "      <td>25.997500</td>\n",
       "      <td>26.357501</td>\n",
       "      <td>1.399908e+05</td>\n",
       "      <td>26.699022</td>\n",
       "      <td>26.366243</td>\n",
       "      <td>24.094762</td>\n",
       "    </tr>\n",
       "    <tr>\n",
       "      <th>max</th>\n",
       "      <td>57.500000</td>\n",
       "      <td>59.509998</td>\n",
       "      <td>4.545600e+06</td>\n",
       "      <td>59.849998</td>\n",
       "      <td>58.520000</td>\n",
       "      <td>58.349785</td>\n",
       "    </tr>\n",
       "  </tbody>\n",
       "</table>\n",
       "</div>"
      ],
      "text/plain": [
       "               Low         Open        Volume         High        Close  \\\n",
       "count  7194.000000  7194.000000  7.194000e+03  7194.000000  7194.000000   \n",
       "mean     19.857832    20.159893  1.103076e+05    20.442681    20.160092   \n",
       "std      14.001880    14.192495  1.910818e+05    14.367590    14.192230   \n",
       "min       3.355615     3.618228  0.000000e+00     3.890568     3.559870   \n",
       "25%       9.456241     9.591331  9.377000e+03     9.752028     9.610000   \n",
       "50%      13.454881    13.722126  3.320950e+04    13.896622    13.717126   \n",
       "75%      25.997500    26.357501  1.399908e+05    26.699022    26.366243   \n",
       "max      57.500000    59.509998  4.545600e+06    59.849998    58.520000   \n",
       "\n",
       "       Adjusted Close  \n",
       "count     7194.000000  \n",
       "mean        18.038728  \n",
       "std         14.559369  \n",
       "min          2.862780  \n",
       "25%          6.998756  \n",
       "50%         11.726768  \n",
       "75%         24.094762  \n",
       "max         58.349785  "
      ]
     },
     "execution_count": 7,
     "metadata": {},
     "output_type": "execute_result"
    }
   ],
   "source": [
    "df.describe()"
   ]
  },
  {
   "cell_type": "code",
   "execution_count": 8,
   "id": "7d4fc599",
   "metadata": {},
   "outputs": [
    {
     "data": {
      "text/plain": [
       "Date              0\n",
       "Low               0\n",
       "Open              0\n",
       "Volume            0\n",
       "High              0\n",
       "Close             0\n",
       "Adjusted Close    0\n",
       "dtype: int64"
      ]
     },
     "execution_count": 8,
     "metadata": {},
     "output_type": "execute_result"
    }
   ],
   "source": [
    "df.isnull().sum()"
   ]
  },
  {
   "cell_type": "code",
   "execution_count": 9,
   "id": "62dbb2d3",
   "metadata": {},
   "outputs": [],
   "source": [
    "df1 = df.reset_index()['Close']"
   ]
  },
  {
   "cell_type": "code",
   "execution_count": 11,
   "id": "488934d8",
   "metadata": {},
   "outputs": [
    {
     "data": {
      "text/plain": [
       "(7194,)"
      ]
     },
     "execution_count": 11,
     "metadata": {},
     "output_type": "execute_result"
    }
   ],
   "source": [
    "df1.shape"
   ]
  },
  {
   "cell_type": "code",
   "execution_count": 12,
   "id": "bbdda0eb",
   "metadata": {},
   "outputs": [],
   "source": [
    "import matplotlib.pyplot as plt"
   ]
  },
  {
   "cell_type": "code",
   "execution_count": 13,
   "id": "acbbed69",
   "metadata": {},
   "outputs": [
    {
     "data": {
      "text/plain": [
       "[<matplotlib.lines.Line2D at 0x1c3647a1c10>]"
      ]
     },
     "execution_count": 13,
     "metadata": {},
     "output_type": "execute_result"
    },
    {
     "data": {
      "image/png": "[encoded data removed]",
      "text/plain": [
       "<Figure size 640x480 with 1 Axes>"
      ]
     },
     "metadata": {},
     "output_type": "display_data"
    }
   ],
   "source": [
    "plt.plot(df1)"
   ]
  },
  {
   "cell_type": "code",
   "execution_count": 14,
   "id": "33232e5a",
   "metadata": {},
   "outputs": [],
   "source": [
    "# scale the data into a particular format as it is a importtant preprocessing technique"
   ]
  },
  {
   "cell_type": "code",
   "execution_count": 16,
   "id": "e2707165",
   "metadata": {},
   "outputs": [],
   "source": [
    "import numpy as np\n",
    "from sklearn.preprocessing import MinMaxScaler"
   ]
  },
  {
   "cell_type": "code",
   "execution_count": 17,
   "id": "a72720f0",
   "metadata": {},
   "outputs": [],
   "source": [
    "sc = MinMaxScaler()"
   ]
  },
  {
   "cell_type": "code",
   "execution_count": 20,
   "id": "d858b366",
   "metadata": {},
   "outputs": [],
   "source": [
    "df1_aa = sc.fit_transform(np.array(df1).reshape(-1,1))"
   ]
  },
  {
   "cell_type": "code",
   "execution_count": 21,
   "id": "cb265057",
   "metadata": {},
   "outputs": [
    {
     "data": {
      "text/plain": [
       "array([[0.03108812],\n",
       "       [0.03108812],\n",
       "       [0.02740121],\n",
       "       ...,\n",
       "       [0.85080092],\n",
       "       [0.8497092 ],\n",
       "       [0.85116483]])"
      ]
     },
     "execution_count": 21,
     "metadata": {},
     "output_type": "execute_result"
    }
   ],
   "source": [
    "df1_aa"
   ]
  },
  {
   "cell_type": "code",
   "execution_count": 22,
   "id": "299468b9",
   "metadata": {},
   "outputs": [],
   "source": [
    "# divide the data in a new formatt as it is a timeseries data"
   ]
  },
  {
   "cell_type": "code",
   "execution_count": 51,
   "id": "01bd1f1f",
   "metadata": {},
   "outputs": [],
   "source": [
    "training_size=int(len(df1_aa)*0.75)\n",
    "test_size = len(df1_aa)-training_size\n",
    "train_data = df1_aa[0:training_size] # upto training_size it considers as training data upto that index shown below"
   ]
  },
  {
   "cell_type": "code",
   "execution_count": 52,
   "id": "385b52b7",
   "metadata": {},
   "outputs": [
    {
     "data": {
      "text/plain": [
       "(5395, 1)"
      ]
     },
     "execution_count": 52,
     "metadata": {},
     "output_type": "execute_result"
    }
   ],
   "source": [
    "train_data.shape"
   ]
  },
  {
   "cell_type": "code",
   "execution_count": 55,
   "id": "6f786226",
   "metadata": {},
   "outputs": [],
   "source": [
    "test_data = df1_aa[training_size:len(df1_aa)]"
   ]
  },
  {
   "cell_type": "code",
   "execution_count": 56,
   "id": "3276a5fc",
   "metadata": {},
   "outputs": [
    {
     "data": {
      "text/plain": [
       "(1799, 1)"
      ]
     },
     "execution_count": 56,
     "metadata": {},
     "output_type": "execute_result"
    }
   ],
   "source": [
    "test_data.shape"
   ]
  },
  {
   "cell_type": "code",
   "execution_count": 27,
   "id": "0847e2f2",
   "metadata": {},
   "outputs": [
    {
     "data": {
      "text/plain": [
       "5395"
      ]
     },
     "execution_count": 27,
     "metadata": {},
     "output_type": "execute_result"
    }
   ],
   "source": [
    "len(train_data)"
   ]
  },
  {
   "cell_type": "code",
   "execution_count": 57,
   "id": "a85a9e1f",
   "metadata": {},
   "outputs": [
    {
     "data": {
      "text/plain": [
       "array([[0.03108812],\n",
       "       [0.03108812],\n",
       "       [0.02740121],\n",
       "       ...,\n",
       "       [0.45833461],\n",
       "       [0.45524146],\n",
       "       [0.45997216]])"
      ]
     },
     "execution_count": 57,
     "metadata": {},
     "output_type": "execute_result"
    }
   ],
   "source": [
    "train_data"
   ]
  },
  {
   "cell_type": "code",
   "execution_count": 58,
   "id": "a51c24fe",
   "metadata": {},
   "outputs": [
    {
     "data": {
      "text/plain": [
       "array([[0.45433172],\n",
       "       [0.45687901],\n",
       "       [0.48380761],\n",
       "       ...,\n",
       "       [0.85080092],\n",
       "       [0.8497092 ],\n",
       "       [0.85116483]])"
      ]
     },
     "execution_count": 58,
     "metadata": {},
     "output_type": "execute_result"
    }
   ],
   "source": [
    "test_data"
   ]
  },
  {
   "cell_type": "code",
   "execution_count": 63,
   "id": "0f60450f",
   "metadata": {},
   "outputs": [],
   "source": [
    "def create_dataset(dataset,time_step):\n",
    "    X_train,y_train = [],[]\n",
    "    for i in range(len(dataset)-time_step-1):\n",
    "        a=dataset[i:(i+time_step),0]\n",
    "        X_train.append(a)\n",
    "        y_train.append(dataset[i+time_step,0])\n",
    "    return np.array(X_train), np.array(y_train)     "
   ]
  },
  {
   "cell_type": "code",
   "execution_count": 66,
   "id": "7742d50c",
   "metadata": {},
   "outputs": [],
   "source": [
    "time_step =1000\n",
    "X_train,y_train = create_dataset(train_data,time_step=100)\n",
    "X_test,y_test = create_dataset(test_data,time_step=100)   # taking 1000X_train days stocks as i record"
   ]
  },
  {
   "cell_type": "code",
   "execution_count": 68,
   "id": "9af4e883",
   "metadata": {},
   "outputs": [
    {
     "data": {
      "text/plain": [
       "(5294, 100)"
      ]
     },
     "execution_count": 68,
     "metadata": {},
     "output_type": "execute_result"
    }
   ],
   "source": [
    "X_train.shape"
   ]
  },
  {
   "cell_type": "code",
   "execution_count": 69,
   "id": "147e0e23",
   "metadata": {},
   "outputs": [
    {
     "data": {
      "text/plain": [
       "(5294,)"
      ]
     },
     "execution_count": 69,
     "metadata": {},
     "output_type": "execute_result"
    }
   ],
   "source": [
    "y_train.shape"
   ]
  },
  {
   "cell_type": "code",
   "execution_count": 79,
   "id": "f60f1308",
   "metadata": {},
   "outputs": [],
   "source": [
    "X_trained = X_train.reshape(X_train.shape[0],X_train.shape[1],1)\n",
    "X_tested = X_test.reshape(X_test.shape[0],X_test.shape[1],1)"
   ]
  },
  {
   "cell_type": "code",
   "execution_count": 80,
   "id": "08e5b73c",
   "metadata": {},
   "outputs": [],
   "source": [
    "from tensorflow.keras.models import Sequential\n",
    "from tensorflow.keras.layers import LSTM\n",
    "from tensorflow.keras.layers import Dense"
   ]
  },
  {
   "cell_type": "code",
   "execution_count": 82,
   "id": "9b048ede",
   "metadata": {},
   "outputs": [],
   "source": [
    "model = Sequential()\n",
    "model.add(LSTM(50,return_sequences=True,input_shape=(100,1)))\n",
    "model.add(LSTM(50,return_sequences=True))\n",
    "model.add(LSTM(50))\n",
    "model.add(Dense(1))"
   ]
  },
  {
   "cell_type": "code",
   "execution_count": 83,
   "id": "89f58cf8",
   "metadata": {},
   "outputs": [],
   "source": [
    "model.compile(loss='mean_squared_error',optimizer='adam')"
   ]
  },
  {
   "cell_type": "code",
   "execution_count": 84,
   "id": "c3f1b04d",
   "metadata": {},
   "outputs": [
    {
     "name": "stdout",
     "output_type": "stream",
     "text": [
      "Epoch 1/10\n",
      "83/83 [==============================] - 38s 285ms/step - loss: 0.0020 - val_loss: 0.0025\n",
      "Epoch 2/10\n",
      "83/83 [==============================] - 21s 248ms/step - loss: 1.9134e-04 - val_loss: 0.0024\n",
      "Epoch 3/10\n",
      "83/83 [==============================] - 19s 234ms/step - loss: 1.7919e-04 - val_loss: 0.0030\n",
      "Epoch 4/10\n",
      "83/83 [==============================] - 19s 234ms/step - loss: 1.6649e-04 - val_loss: 0.0022\n",
      "Epoch 5/10\n",
      "83/83 [==============================] - 21s 246ms/step - loss: 1.5529e-04 - val_loss: 0.0018\n",
      "Epoch 6/10\n",
      "83/83 [==============================] - 20s 246ms/step - loss: 1.4870e-04 - val_loss: 0.0014\n",
      "Epoch 7/10\n",
      "83/83 [==============================] - 22s 265ms/step - loss: 1.5111e-04 - val_loss: 0.0016\n",
      "Epoch 8/10\n",
      "83/83 [==============================] - 20s 237ms/step - loss: 1.2790e-04 - val_loss: 0.0012\n",
      "Epoch 9/10\n",
      "83/83 [==============================] - 19s 230ms/step - loss: 1.1815e-04 - val_loss: 0.0011\n",
      "Epoch 10/10\n",
      "83/83 [==============================] - 19s 229ms/step - loss: 1.1234e-04 - val_loss: 0.0011\n"
     ]
    },
    {
     "data": {
      "text/plain": [
       "<keras.callbacks.History at 0x1c3703497f0>"
      ]
     },
     "execution_count": 84,
     "metadata": {},
     "output_type": "execute_result"
    }
   ],
   "source": [
    "model.fit(X_train,y_train,validation_data=(X_test,y_test),epochs=10,batch_size=64,verbose=1)"
   ]
  },
  {
   "cell_type": "code",
   "execution_count": 89,
   "id": "2f137013",
   "metadata": {},
   "outputs": [
    {
     "name": "stdout",
     "output_type": "stream",
     "text": [
      "54/54 [==============================] - 2s 39ms/step\n"
     ]
    }
   ],
   "source": [
    "train_predict = model.predict(X_test)"
   ]
  },
  {
   "cell_type": "code",
   "execution_count": 90,
   "id": "1b38367f",
   "metadata": {},
   "outputs": [
    {
     "data": {
      "text/plain": [
       "array([[0.45069802],\n",
       "       [0.4520941 ],\n",
       "       [0.45356545],\n",
       "       ...,\n",
       "       [0.86555725],\n",
       "       [0.86125433],\n",
       "       [0.8560515 ]], dtype=float32)"
      ]
     },
     "execution_count": 90,
     "metadata": {},
     "output_type": "execute_result"
    }
   ],
   "source": [
    "train_predict"
   ]
  },
  {
   "cell_type": "code",
   "execution_count": 91,
   "id": "b5761fdc",
   "metadata": {},
   "outputs": [],
   "source": [
    "re = sc.inverse_transform(train_predict)"
   ]
  },
  {
   "cell_type": "code",
   "execution_count": 92,
   "id": "088bda52",
   "metadata": {},
   "outputs": [
    {
     "data": {
      "text/plain": [
       "array([[28.330294],\n",
       "       [28.40702 ],\n",
       "       [28.487886],\n",
       "       ...,\n",
       "       [51.131012],\n",
       "       [50.894524],\n",
       "       [50.608574]], dtype=float32)"
      ]
     },
     "execution_count": 92,
     "metadata": {},
     "output_type": "execute_result"
    }
   ],
   "source": [
    "re"
   ]
  },
  {
   "cell_type": "code",
   "execution_count": 93,
   "id": "ecfc86b0",
   "metadata": {},
   "outputs": [
    {
     "data": {
      "text/plain": [
       "0        5.268477\n",
       "1        5.268477\n",
       "2        5.065844\n",
       "3        5.065844\n",
       "4        5.065844\n",
       "          ...    \n",
       "7189    50.310001\n",
       "7190    50.360001\n",
       "7191    50.320000\n",
       "7192    50.259998\n",
       "7193    50.340000\n",
       "Name: Close, Length: 7194, dtype: float64"
      ]
     },
     "execution_count": 93,
     "metadata": {},
     "output_type": "execute_result"
    }
   ],
   "source": [
    "df1"
   ]
  },
  {
   "cell_type": "code",
   "execution_count": null,
   "id": "c99a9a3e",
   "metadata": {},
   "outputs": [],
   "source": []
  }
 ],
 "metadata": {
  "kernelspec": {
   "display_name": "Python 3 (ipykernel)",
   "language": "python",
   "name": "python3"
  },
  "language_info": {
   "codemirror_mode": {
    "name": "ipython",
    "version": 3
   },
   "file_extension": ".py",
   "mimetype": "text/x-python",
   "name": "python",
   "nbconvert_exporter": "python",
   "pygments_lexer": "ipython3",
   "version": "3.9.13"
  }
 },
 "nbformat": 4,
 "nbformat_minor": 5
}
