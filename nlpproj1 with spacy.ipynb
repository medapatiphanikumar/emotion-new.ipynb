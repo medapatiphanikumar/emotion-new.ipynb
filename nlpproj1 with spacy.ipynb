{
 "cells": [
  {
   "cell_type": "code",
   "execution_count": 1,
   "id": "1f05e8fa",
   "metadata": {},
   "outputs": [],
   "source": [
    "import pandas as pd"
   ]
  },
  {
   "cell_type": "code",
   "execution_count": 2,
   "id": "092f5e27",
   "metadata": {},
   "outputs": [],
   "source": [
    "msg=pd.read_csv('train.tsv',sep='\\t')"
   ]
  },
  {
   "cell_type": "code",
   "execution_count": 3,
   "id": "d808c65f",
   "metadata": {},
   "outputs": [
    {
     "data": {
      "text/html": [
       "<div>\n",
       "<style scoped>\n",
       "    .dataframe tbody tr th:only-of-type {\n",
       "        vertical-align: middle;\n",
       "    }\n",
       "\n",
       "    .dataframe tbody tr th {\n",
       "        vertical-align: top;\n",
       "    }\n",
       "\n",
       "    .dataframe thead th {\n",
       "        text-align: right;\n",
       "    }\n",
       "</style>\n",
       "<table border=\"1\" class=\"dataframe\">\n",
       "  <thead>\n",
       "    <tr style=\"text-align: right;\">\n",
       "      <th></th>\n",
       "      <th>PhraseId</th>\n",
       "      <th>SentenceId</th>\n",
       "      <th>Phrase</th>\n",
       "      <th>Sentiment</th>\n",
       "    </tr>\n",
       "  </thead>\n",
       "  <tbody>\n",
       "    <tr>\n",
       "      <th>0</th>\n",
       "      <td>1</td>\n",
       "      <td>1</td>\n",
       "      <td>A series of escapades demonstrating the adage ...</td>\n",
       "      <td>1</td>\n",
       "    </tr>\n",
       "    <tr>\n",
       "      <th>1</th>\n",
       "      <td>2</td>\n",
       "      <td>1</td>\n",
       "      <td>A series of escapades demonstrating the adage ...</td>\n",
       "      <td>2</td>\n",
       "    </tr>\n",
       "    <tr>\n",
       "      <th>2</th>\n",
       "      <td>3</td>\n",
       "      <td>1</td>\n",
       "      <td>A series</td>\n",
       "      <td>2</td>\n",
       "    </tr>\n",
       "    <tr>\n",
       "      <th>3</th>\n",
       "      <td>4</td>\n",
       "      <td>1</td>\n",
       "      <td>A</td>\n",
       "      <td>2</td>\n",
       "    </tr>\n",
       "    <tr>\n",
       "      <th>4</th>\n",
       "      <td>5</td>\n",
       "      <td>1</td>\n",
       "      <td>series</td>\n",
       "      <td>2</td>\n",
       "    </tr>\n",
       "    <tr>\n",
       "      <th>...</th>\n",
       "      <td>...</td>\n",
       "      <td>...</td>\n",
       "      <td>...</td>\n",
       "      <td>...</td>\n",
       "    </tr>\n",
       "    <tr>\n",
       "      <th>156055</th>\n",
       "      <td>156056</td>\n",
       "      <td>8544</td>\n",
       "      <td>Hearst 's</td>\n",
       "      <td>2</td>\n",
       "    </tr>\n",
       "    <tr>\n",
       "      <th>156056</th>\n",
       "      <td>156057</td>\n",
       "      <td>8544</td>\n",
       "      <td>forced avuncular chortles</td>\n",
       "      <td>1</td>\n",
       "    </tr>\n",
       "    <tr>\n",
       "      <th>156057</th>\n",
       "      <td>156058</td>\n",
       "      <td>8544</td>\n",
       "      <td>avuncular chortles</td>\n",
       "      <td>3</td>\n",
       "    </tr>\n",
       "    <tr>\n",
       "      <th>156058</th>\n",
       "      <td>156059</td>\n",
       "      <td>8544</td>\n",
       "      <td>avuncular</td>\n",
       "      <td>2</td>\n",
       "    </tr>\n",
       "    <tr>\n",
       "      <th>156059</th>\n",
       "      <td>156060</td>\n",
       "      <td>8544</td>\n",
       "      <td>chortles</td>\n",
       "      <td>2</td>\n",
       "    </tr>\n",
       "  </tbody>\n",
       "</table>\n",
       "<p>156060 rows × 4 columns</p>\n",
       "</div>"
      ],
      "text/plain": [
       "        PhraseId  SentenceId  \\\n",
       "0              1           1   \n",
       "1              2           1   \n",
       "2              3           1   \n",
       "3              4           1   \n",
       "4              5           1   \n",
       "...          ...         ...   \n",
       "156055    156056        8544   \n",
       "156056    156057        8544   \n",
       "156057    156058        8544   \n",
       "156058    156059        8544   \n",
       "156059    156060        8544   \n",
       "\n",
       "                                                   Phrase  Sentiment  \n",
       "0       A series of escapades demonstrating the adage ...          1  \n",
       "1       A series of escapades demonstrating the adage ...          2  \n",
       "2                                                A series          2  \n",
       "3                                                       A          2  \n",
       "4                                                  series          2  \n",
       "...                                                   ...        ...  \n",
       "156055                                          Hearst 's          2  \n",
       "156056                          forced avuncular chortles          1  \n",
       "156057                                 avuncular chortles          3  \n",
       "156058                                          avuncular          2  \n",
       "156059                                           chortles          2  \n",
       "\n",
       "[156060 rows x 4 columns]"
      ]
     },
     "execution_count": 3,
     "metadata": {},
     "output_type": "execute_result"
    }
   ],
   "source": [
    "msg"
   ]
  },
  {
   "cell_type": "code",
   "execution_count": 4,
   "id": "05b6d17a",
   "metadata": {},
   "outputs": [
    {
     "data": {
      "text/plain": [
       "(156060, 4)"
      ]
     },
     "execution_count": 4,
     "metadata": {},
     "output_type": "execute_result"
    }
   ],
   "source": [
    "msg.shape"
   ]
  },
  {
   "cell_type": "code",
   "execution_count": 5,
   "id": "8001f50d",
   "metadata": {},
   "outputs": [
    {
     "data": {
      "text/plain": [
       "2    79582\n",
       "3    32927\n",
       "1    27273\n",
       "4     9206\n",
       "0     7072\n",
       "Name: Sentiment, dtype: int64"
      ]
     },
     "execution_count": 5,
     "metadata": {},
     "output_type": "execute_result"
    }
   ],
   "source": [
    "msg['Sentiment'].value_counts()"
   ]
  },
  {
   "cell_type": "code",
   "execution_count": 8,
   "id": "3cb14da5",
   "metadata": {},
   "outputs": [],
   "source": [
    "import spacy"
   ]
  },
  {
   "cell_type": "code",
   "execution_count": 10,
   "id": "eea113a0",
   "metadata": {},
   "outputs": [],
   "source": [
    "nlp=spacy.load('en_core_web_sm')"
   ]
  },
  {
   "cell_type": "code",
   "execution_count": 11,
   "id": "04385ae2",
   "metadata": {},
   "outputs": [
    {
     "data": {
      "text/plain": [
       "array([ 3.83830756e-01,  2.49119341e-01, -8.53338763e-02,  3.50227952e-03,\n",
       "        3.19938898e-01,  3.26233923e-01,  1.82702020e-01, -2.87267566e-01,\n",
       "        1.49478480e-01, -1.87645257e-01,  9.06254590e-01, -3.01126361e-01,\n",
       "       -5.96267700e-01, -1.49281770e-01, -2.30265349e-01, -3.53774339e-01,\n",
       "       -3.40926915e-01,  1.12143233e-01,  1.08009018e-01,  2.84309447e-01,\n",
       "       -3.79616082e-01, -1.26565546e-01,  2.11365730e-01, -2.29018167e-01,\n",
       "        7.69219518e-01, -9.53318030e-02,  7.04380393e-01, -1.37583725e-02,\n",
       "        6.87786043e-02,  3.33819479e-01, -5.62098026e-02, -1.04752451e-01,\n",
       "        1.96260720e-01, -8.19449306e-01, -1.88968092e-01, -3.27321470e-01,\n",
       "        2.36608043e-01,  5.65833032e-01, -2.46483088e-01,  4.23537642e-01,\n",
       "        1.55713707e-02,  9.94950831e-02, -3.06707174e-01,  2.43468180e-01,\n",
       "       -2.71417201e-04,  5.02874970e-01, -2.76454538e-02,  7.22536594e-02,\n",
       "        7.92965144e-02, -2.85214633e-01, -1.29043907e-01, -5.89226961e-01,\n",
       "        1.73596025e-01,  1.36930615e-01, -2.78227687e-01,  1.96646690e-01,\n",
       "       -3.29141021e-01, -3.16792317e-02,  1.33069009e-01, -3.46603155e-01,\n",
       "        6.91940263e-02, -5.03488779e-01, -3.86141911e-02, -4.24923509e-01,\n",
       "        2.67482728e-01, -1.01013288e-01, -4.42076698e-02, -1.72316164e-01,\n",
       "       -1.34054348e-01, -5.92657104e-02,  2.26534843e-01,  3.66229177e-01,\n",
       "        4.50515568e-01, -2.31065340e-02, -1.81619599e-01, -7.84833878e-02,\n",
       "        1.73696473e-01, -2.60432303e-01,  1.63655147e-01, -3.09831947e-01,\n",
       "        1.43041328e-01, -1.75889522e-01, -5.81594169e-01, -4.44082081e-01,\n",
       "        2.70096093e-01,  2.35618293e-01, -3.32609564e-02,  2.99224794e-01,\n",
       "       -2.58003235e-01,  3.30122054e-01, -4.52999651e-01, -4.27163728e-02,\n",
       "        3.60273302e-01,  1.38425320e-01, -6.35837972e-01,  3.48404557e-01],\n",
       "      dtype=float32)"
      ]
     },
     "execution_count": 11,
     "metadata": {},
     "output_type": "execute_result"
    }
   ],
   "source": [
    "doc=nlp('A series of escapades demonstrating the adage ...')\n",
    "doc.vector"
   ]
  },
  {
   "cell_type": "code",
   "execution_count": 12,
   "id": "50647399",
   "metadata": {},
   "outputs": [
    {
     "data": {
      "text/plain": [
       "(96,)"
      ]
     },
     "execution_count": 12,
     "metadata": {},
     "output_type": "execute_result"
    }
   ],
   "source": [
    "doc.vector.shape"
   ]
  },
  {
   "cell_type": "code",
   "execution_count": 13,
   "id": "5146d33e",
   "metadata": {},
   "outputs": [],
   "source": [
    "msg['vectors']=msg['Phrase'].apply(lambda text: nlp(text).vector)"
   ]
  },
  {
   "cell_type": "code",
   "execution_count": 15,
   "id": "a218cea9",
   "metadata": {},
   "outputs": [
    {
     "data": {
      "text/html": [
       "<div>\n",
       "<style scoped>\n",
       "    .dataframe tbody tr th:only-of-type {\n",
       "        vertical-align: middle;\n",
       "    }\n",
       "\n",
       "    .dataframe tbody tr th {\n",
       "        vertical-align: top;\n",
       "    }\n",
       "\n",
       "    .dataframe thead th {\n",
       "        text-align: right;\n",
       "    }\n",
       "</style>\n",
       "<table border=\"1\" class=\"dataframe\">\n",
       "  <thead>\n",
       "    <tr style=\"text-align: right;\">\n",
       "      <th></th>\n",
       "      <th>PhraseId</th>\n",
       "      <th>SentenceId</th>\n",
       "      <th>Phrase</th>\n",
       "      <th>Sentiment</th>\n",
       "      <th>vectors</th>\n",
       "    </tr>\n",
       "  </thead>\n",
       "  <tbody>\n",
       "    <tr>\n",
       "      <th>0</th>\n",
       "      <td>1</td>\n",
       "      <td>1</td>\n",
       "      <td>A series of escapades demonstrating the adage ...</td>\n",
       "      <td>1</td>\n",
       "      <td>[0.5534727, 0.06951709, -0.08827643, 0.0265126...</td>\n",
       "    </tr>\n",
       "    <tr>\n",
       "      <th>1</th>\n",
       "      <td>2</td>\n",
       "      <td>1</td>\n",
       "      <td>A series of escapades demonstrating the adage ...</td>\n",
       "      <td>2</td>\n",
       "      <td>[0.51640975, 0.31102583, 0.08027683, 0.2717966...</td>\n",
       "    </tr>\n",
       "    <tr>\n",
       "      <th>2</th>\n",
       "      <td>3</td>\n",
       "      <td>1</td>\n",
       "      <td>A series</td>\n",
       "      <td>2</td>\n",
       "      <td>[0.09771292, -0.37073648, -0.52026635, 1.04389...</td>\n",
       "    </tr>\n",
       "    <tr>\n",
       "      <th>3</th>\n",
       "      <td>4</td>\n",
       "      <td>1</td>\n",
       "      <td>A</td>\n",
       "      <td>2</td>\n",
       "      <td>[-0.120492995, -0.47484326, -0.7662935, 0.3828...</td>\n",
       "    </tr>\n",
       "    <tr>\n",
       "      <th>4</th>\n",
       "      <td>5</td>\n",
       "      <td>1</td>\n",
       "      <td>series</td>\n",
       "      <td>2</td>\n",
       "      <td>[-0.93268704, -0.6456857, -1.4134893, 0.668543...</td>\n",
       "    </tr>\n",
       "    <tr>\n",
       "      <th>...</th>\n",
       "      <td>...</td>\n",
       "      <td>...</td>\n",
       "      <td>...</td>\n",
       "      <td>...</td>\n",
       "      <td>...</td>\n",
       "    </tr>\n",
       "    <tr>\n",
       "      <th>156055</th>\n",
       "      <td>156056</td>\n",
       "      <td>8544</td>\n",
       "      <td>Hearst 's</td>\n",
       "      <td>2</td>\n",
       "      <td>[-0.6692649, 0.20235813, -0.5970623, 0.2689315...</td>\n",
       "    </tr>\n",
       "    <tr>\n",
       "      <th>156056</th>\n",
       "      <td>156057</td>\n",
       "      <td>8544</td>\n",
       "      <td>forced avuncular chortles</td>\n",
       "      <td>1</td>\n",
       "      <td>[-0.2263304, 0.018628836, 0.45738485, 0.647459...</td>\n",
       "    </tr>\n",
       "    <tr>\n",
       "      <th>156057</th>\n",
       "      <td>156058</td>\n",
       "      <td>8544</td>\n",
       "      <td>avuncular chortles</td>\n",
       "      <td>3</td>\n",
       "      <td>[-0.059114896, -0.29317722, 0.39488566, 1.0309...</td>\n",
       "    </tr>\n",
       "    <tr>\n",
       "      <th>156058</th>\n",
       "      <td>156059</td>\n",
       "      <td>8544</td>\n",
       "      <td>avuncular</td>\n",
       "      <td>2</td>\n",
       "      <td>[-1.0272126, -1.6104822, -1.1530945, 0.0716065...</td>\n",
       "    </tr>\n",
       "    <tr>\n",
       "      <th>156059</th>\n",
       "      <td>156060</td>\n",
       "      <td>8544</td>\n",
       "      <td>chortles</td>\n",
       "      <td>2</td>\n",
       "      <td>[-0.6992576, 1.0301708, 0.26852673, 1.1806453,...</td>\n",
       "    </tr>\n",
       "  </tbody>\n",
       "</table>\n",
       "<p>156060 rows × 5 columns</p>\n",
       "</div>"
      ],
      "text/plain": [
       "        PhraseId  SentenceId  \\\n",
       "0              1           1   \n",
       "1              2           1   \n",
       "2              3           1   \n",
       "3              4           1   \n",
       "4              5           1   \n",
       "...          ...         ...   \n",
       "156055    156056        8544   \n",
       "156056    156057        8544   \n",
       "156057    156058        8544   \n",
       "156058    156059        8544   \n",
       "156059    156060        8544   \n",
       "\n",
       "                                                   Phrase  Sentiment  \\\n",
       "0       A series of escapades demonstrating the adage ...          1   \n",
       "1       A series of escapades demonstrating the adage ...          2   \n",
       "2                                                A series          2   \n",
       "3                                                       A          2   \n",
       "4                                                  series          2   \n",
       "...                                                   ...        ...   \n",
       "156055                                          Hearst 's          2   \n",
       "156056                          forced avuncular chortles          1   \n",
       "156057                                 avuncular chortles          3   \n",
       "156058                                          avuncular          2   \n",
       "156059                                           chortles          2   \n",
       "\n",
       "                                                  vectors  \n",
       "0       [0.5534727, 0.06951709, -0.08827643, 0.0265126...  \n",
       "1       [0.51640975, 0.31102583, 0.08027683, 0.2717966...  \n",
       "2       [0.09771292, -0.37073648, -0.52026635, 1.04389...  \n",
       "3       [-0.120492995, -0.47484326, -0.7662935, 0.3828...  \n",
       "4       [-0.93268704, -0.6456857, -1.4134893, 0.668543...  \n",
       "...                                                   ...  \n",
       "156055  [-0.6692649, 0.20235813, -0.5970623, 0.2689315...  \n",
       "156056  [-0.2263304, 0.018628836, 0.45738485, 0.647459...  \n",
       "156057  [-0.059114896, -0.29317722, 0.39488566, 1.0309...  \n",
       "156058  [-1.0272126, -1.6104822, -1.1530945, 0.0716065...  \n",
       "156059  [-0.6992576, 1.0301708, 0.26852673, 1.1806453,...  \n",
       "\n",
       "[156060 rows x 5 columns]"
      ]
     },
     "execution_count": 15,
     "metadata": {},
     "output_type": "execute_result"
    }
   ],
   "source": [
    "msg"
   ]
  },
  {
   "cell_type": "code",
   "execution_count": 16,
   "id": "72cc4cb7",
   "metadata": {},
   "outputs": [],
   "source": [
    "from sklearn.model_selection import train_test_split"
   ]
  },
  {
   "cell_type": "code",
   "execution_count": 17,
   "id": "da14d0eb",
   "metadata": {},
   "outputs": [],
   "source": [
    "X=msg['vectors']"
   ]
  },
  {
   "cell_type": "code",
   "execution_count": 18,
   "id": "c3034959",
   "metadata": {},
   "outputs": [
    {
     "data": {
      "text/plain": [
       "0         [0.5534727, 0.06951709, -0.08827643, 0.0265126...\n",
       "1         [0.51640975, 0.31102583, 0.08027683, 0.2717966...\n",
       "2         [0.09771292, -0.37073648, -0.52026635, 1.04389...\n",
       "3         [-0.120492995, -0.47484326, -0.7662935, 0.3828...\n",
       "4         [-0.93268704, -0.6456857, -1.4134893, 0.668543...\n",
       "                                ...                        \n",
       "156055    [-0.6692649, 0.20235813, -0.5970623, 0.2689315...\n",
       "156056    [-0.2263304, 0.018628836, 0.45738485, 0.647459...\n",
       "156057    [-0.059114896, -0.29317722, 0.39488566, 1.0309...\n",
       "156058    [-1.0272126, -1.6104822, -1.1530945, 0.0716065...\n",
       "156059    [-0.6992576, 1.0301708, 0.26852673, 1.1806453,...\n",
       "Name: vectors, Length: 156060, dtype: object"
      ]
     },
     "execution_count": 18,
     "metadata": {},
     "output_type": "execute_result"
    }
   ],
   "source": [
    "X"
   ]
  },
  {
   "cell_type": "code",
   "execution_count": 19,
   "id": "63461e84",
   "metadata": {},
   "outputs": [],
   "source": [
    "y=msg['Sentiment']"
   ]
  },
  {
   "cell_type": "code",
   "execution_count": 20,
   "id": "83ab3873",
   "metadata": {},
   "outputs": [
    {
     "data": {
      "text/plain": [
       "0         1\n",
       "1         2\n",
       "2         2\n",
       "3         2\n",
       "4         2\n",
       "         ..\n",
       "156055    2\n",
       "156056    1\n",
       "156057    3\n",
       "156058    2\n",
       "156059    2\n",
       "Name: Sentiment, Length: 156060, dtype: int64"
      ]
     },
     "execution_count": 20,
     "metadata": {},
     "output_type": "execute_result"
    }
   ],
   "source": [
    "y"
   ]
  },
  {
   "cell_type": "code",
   "execution_count": 21,
   "id": "44d94a3f",
   "metadata": {},
   "outputs": [],
   "source": [
    "X_train,X_test,y_train,y_test=train_test_split(X,y,test_size=0.2,random_state=0)"
   ]
  },
  {
   "cell_type": "code",
   "execution_count": 22,
   "id": "152af8fe",
   "metadata": {},
   "outputs": [
    {
     "data": {
      "text/plain": [
       "21923     [-0.43085948, -0.8208053, 0.3429934, -0.294349...\n",
       "18206     [-0.4911104, -0.53273463, 1.2126259, 0.6691910...\n",
       "81802     [-0.15180975, -0.7694615, -0.45020163, 0.73388...\n",
       "114982    [0.058115307, -0.10431297, 0.27886868, 0.08766...\n",
       "135927    [-0.004874659, -0.032474674, -0.12076461, -0.0...\n",
       "                                ...                        \n",
       "24709     [-1.0182381, -0.3183732, -0.13679117, 0.245876...\n",
       "124567    [0.61085105, -0.7191264, -0.5036195, 0.1271455...\n",
       "41356     [0.8050615, -1.0086457, 0.352606, 0.71623504, ...\n",
       "93070     [0.07637358, -0.3171611, 0.2103769, -0.0368827...\n",
       "52029     [-0.2701615, -0.35142365, -0.51302147, 0.84658...\n",
       "Name: vectors, Length: 31212, dtype: object"
      ]
     },
     "execution_count": 22,
     "metadata": {},
     "output_type": "execute_result"
    }
   ],
   "source": [
    "X_test"
   ]
  },
  {
   "cell_type": "code",
   "execution_count": 23,
   "id": "808dcccb",
   "metadata": {},
   "outputs": [
    {
     "data": {
      "text/plain": [
       "(124848,)"
      ]
     },
     "execution_count": 23,
     "metadata": {},
     "output_type": "execute_result"
    }
   ],
   "source": [
    "X_train.shape"
   ]
  },
  {
   "cell_type": "code",
   "execution_count": 24,
   "id": "f57d40bf",
   "metadata": {},
   "outputs": [],
   "source": [
    "import numpy as np"
   ]
  },
  {
   "cell_type": "code",
   "execution_count": 25,
   "id": "f65e90d4",
   "metadata": {},
   "outputs": [],
   "source": [
    "X_train2d=np.stack(X_train)"
   ]
  },
  {
   "cell_type": "code",
   "execution_count": 26,
   "id": "339532b4",
   "metadata": {},
   "outputs": [],
   "source": [
    "X_test2d=np.stack(X_test)"
   ]
  },
  {
   "cell_type": "code",
   "execution_count": 27,
   "id": "d97c5763",
   "metadata": {},
   "outputs": [
    {
     "data": {
      "text/plain": [
       "(124848, 96)"
      ]
     },
     "execution_count": 27,
     "metadata": {},
     "output_type": "execute_result"
    }
   ],
   "source": [
    "X_train2d.shape"
   ]
  },
  {
   "cell_type": "code",
   "execution_count": 28,
   "id": "791bb8cb",
   "metadata": {},
   "outputs": [
    {
     "data": {
      "text/plain": [
       "(124848,)"
      ]
     },
     "execution_count": 28,
     "metadata": {},
     "output_type": "execute_result"
    }
   ],
   "source": [
    "y_train.shape"
   ]
  },
  {
   "cell_type": "code",
   "execution_count": 30,
   "id": "15227ead",
   "metadata": {},
   "outputs": [],
   "source": [
    "from sklearn.naive_bayes import MultinomialNB\n",
    "from sklearn.ensemble import AdaBoostClassifier\n",
    "from xgboost import XGBClassifier\n",
    "from sklearn.preprocessing import MinMaxScaler\n",
    "from sklearn.metrics import accuracy_score,confusion_matrix,classification_report\n",
    "from sklearn.neighbors import KNeighborsClassifier\n",
    "from sklearn.svm import SVC\n",
    "import warnings\n",
    "warnings.filterwarnings('ignore')"
   ]
  },
  {
   "cell_type": "code",
   "execution_count": 31,
   "id": "fb152c8a",
   "metadata": {},
   "outputs": [],
   "source": [
    "clf=MultinomialNB()\n",
    "mm=MinMaxScaler()\n",
    "xgb=XGBClassifier()\n",
    "knn=KNeighborsClassifier()"
   ]
  },
  {
   "cell_type": "code",
   "execution_count": 34,
   "id": "0e402be6",
   "metadata": {},
   "outputs": [],
   "source": [
    "X_strain=mm.fit_transform(X_train2d)\n",
    "X_stest=mm.fit_transform(X_test2d)"
   ]
  },
  {
   "cell_type": "code",
   "execution_count": 33,
   "id": "40806a68",
   "metadata": {},
   "outputs": [
    {
     "data": {
      "text/plain": [
       "MultinomialNB()"
      ]
     },
     "execution_count": 33,
     "metadata": {},
     "output_type": "execute_result"
    }
   ],
   "source": [
    "clf.fit(X_strain,y_train)"
   ]
  },
  {
   "cell_type": "code",
   "execution_count": 35,
   "id": "17ef113e",
   "metadata": {},
   "outputs": [],
   "source": [
    "y_pred=clf.predict(X_stest)"
   ]
  },
  {
   "cell_type": "code",
   "execution_count": 36,
   "id": "721516cd",
   "metadata": {},
   "outputs": [
    {
     "data": {
      "text/plain": [
       "0.5120466487248494"
      ]
     },
     "execution_count": 36,
     "metadata": {},
     "output_type": "execute_result"
    }
   ],
   "source": [
    "accuracy_score(y_pred,y_test)"
   ]
  },
  {
   "cell_type": "code",
   "execution_count": 37,
   "id": "195902c1",
   "metadata": {},
   "outputs": [
    {
     "data": {
      "text/plain": [
       "array([[    0,     0,     0,     0,     0],\n",
       "       [    0,     0,     0,     0,     0],\n",
       "       [ 1504,  5453, 15982,  6441,  1832],\n",
       "       [    0,     0,     0,     0,     0],\n",
       "       [    0,     0,     0,     0,     0]], dtype=int64)"
      ]
     },
     "execution_count": 37,
     "metadata": {},
     "output_type": "execute_result"
    }
   ],
   "source": [
    "confusion_matrix(y_pred,y_test)"
   ]
  },
  {
   "cell_type": "code",
   "execution_count": 38,
   "id": "a23943a6",
   "metadata": {},
   "outputs": [
    {
     "data": {
      "text/plain": [
       "KNeighborsClassifier()"
      ]
     },
     "execution_count": 38,
     "metadata": {},
     "output_type": "execute_result"
    }
   ],
   "source": [
    "knn.fit(X_strain,y_train)"
   ]
  },
  {
   "cell_type": "code",
   "execution_count": 39,
   "id": "a6ab2101",
   "metadata": {},
   "outputs": [],
   "source": [
    "y_pred=knn.predict(X_stest)"
   ]
  },
  {
   "cell_type": "code",
   "execution_count": 40,
   "id": "b87a7cd9",
   "metadata": {},
   "outputs": [
    {
     "data": {
      "text/plain": [
       "0.5672497757272844"
      ]
     },
     "execution_count": 40,
     "metadata": {},
     "output_type": "execute_result"
    }
   ],
   "source": [
    "accuracy_score(y_pred,y_test)"
   ]
  },
  {
   "cell_type": "code",
   "execution_count": 41,
   "id": "1d9d2393",
   "metadata": {},
   "outputs": [
    {
     "name": "stdout",
     "output_type": "stream",
     "text": [
      "              precision    recall  f1-score   support\n",
      "\n",
      "           0       0.32      0.32      0.32      1504\n",
      "           1       0.41      0.41      0.41      5453\n",
      "           2       0.68      0.76      0.72     15982\n",
      "           3       0.45      0.38      0.42      6441\n",
      "           4       0.41      0.23      0.29      1832\n",
      "\n",
      "    accuracy                           0.57     31212\n",
      "   macro avg       0.45      0.42      0.43     31212\n",
      "weighted avg       0.55      0.57      0.56     31212\n",
      "\n"
     ]
    }
   ],
   "source": [
    "print(classification_report(y_test,y_pred))"
   ]
  },
  {
   "cell_type": "code",
   "execution_count": 42,
   "id": "85a7ba01",
   "metadata": {},
   "outputs": [
    {
     "name": "stdout",
     "output_type": "stream",
     "text": [
      "[ 0.7794137  -0.85111743  0.31924355  0.44175783 -0.15234211 -0.2915995\n",
      " -0.25144365  0.3746689   0.05912739 -0.09404865  0.34164226 -0.12093755\n",
      " -0.01355673  0.15553887 -0.65397954 -0.59075224 -0.04088463 -0.19763464\n",
      " -0.5780478  -0.37451464 -0.05957949  0.23691654 -0.57213724 -0.12370194\n",
      "  0.14439625 -0.7679845   0.46167073  0.16387129  0.14314054  1.1922827\n",
      "  0.3921734  -0.67959803  0.07145229 -0.8089346  -0.24902278 -0.18844275\n",
      "  0.23162502 -0.31985146  0.31824866 -0.14178394 -0.9231746   0.40219367\n",
      " -0.16940269  0.61852205  0.26863736  0.25520474 -0.90864885 -0.39013207\n",
      " -0.3265063   0.9373616   0.11365098  1.2662354  -0.300641    0.7721329\n",
      " -0.14982025  0.6940118  -0.2864632   0.8283097  -0.16962418  0.28966248\n",
      " -0.15525545 -0.6047701  -0.04696611 -0.37800512 -0.11285065 -0.00918715\n",
      "  0.25013816 -0.29610595  0.12381187 -0.402061   -0.24372913  0.64617866\n",
      "  0.008203    0.11370736 -0.08694564 -0.77477396  0.38546348 -0.4188159\n",
      "  0.30237693 -0.21985823 -0.2712118  -0.3470884   0.26428217 -0.49052125\n",
      " -0.1467509   0.35719517  0.02641845 -0.140591   -0.5532172   0.41132432\n",
      "  0.60789514 -0.08444245  0.9422012   0.36494017 -0.40254262 -0.03435127]\n",
      "[[0. 0. 0. 0. 0. 0. 0. 0. 0. 0. 0. 0. 0. 0. 0. 0. 0. 0. 0. 0. 0. 0. 0. 0.\n",
      "  0. 0. 0. 0. 0. 0. 0. 0. 0. 0. 0. 0. 0. 0. 0. 0. 0. 0. 0. 0. 0. 0. 0. 0.\n",
      "  0. 0. 0. 0. 0. 0. 0. 0. 0. 0. 0. 0. 0. 0. 0. 0. 0. 0. 0. 0. 0. 0. 0. 0.\n",
      "  0. 0. 0. 0. 0. 0. 0. 0. 0. 0. 0. 0. 0. 0. 0. 0. 0. 0. 0. 0. 0. 0. 0. 0.]]\n"
     ]
    }
   ],
   "source": [
    "test=nlp('the very joyful rabbit')\n",
    "out=test.vector\n",
    "out1=np.stack(out)\n",
    "print(out1)\n",
    "out2=mm.fit_transform([out1])\n",
    "print(out2)"
   ]
  },
  {
   "cell_type": "code",
   "execution_count": 43,
   "id": "3c04ef8d",
   "metadata": {},
   "outputs": [
    {
     "name": "stdout",
     "output_type": "stream",
     "text": [
      "notbad\n"
     ]
    }
   ],
   "source": [
    "predict=knn.predict(out2)\n",
    "if(predict==0):\n",
    "    print('waste')\n",
    "elif(predict==1):\n",
    "    print('bad')\n",
    "elif(predict==2):\n",
    "    print('notbad')\n",
    "elif(predict==3):\n",
    "    print('good')\n",
    "elif(predict==4):\n",
    "    print('verygood')\n",
    "else:\n",
    "    print('notmentioned')"
   ]
  }
 ],
 "metadata": {
  "kernelspec": {
   "display_name": "Python 3 (ipykernel)",
   "language": "python",
   "name": "python3"
  },
  "language_info": {
   "codemirror_mode": {
    "name": "ipython",
    "version": 3
   },
   "file_extension": ".py",
   "mimetype": "text/x-python",
   "name": "python",
   "nbconvert_exporter": "python",
   "pygments_lexer": "ipython3",
   "version": "3.9.13"
  }
 },
 "nbformat": 4,
 "nbformat_minor": 5
}
