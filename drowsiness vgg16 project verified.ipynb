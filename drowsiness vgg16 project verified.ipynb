{
 "cells": [
  {
   "cell_type": "code",
   "execution_count": 1,
   "id": "dcda9ab0",
   "metadata": {},
   "outputs": [],
   "source": [
    "import keras \n",
    "from keras.models import Sequential\n",
    "from keras.layers import Dense,Dropout,PReLU\n",
    "from keras.optimizers import Adam\n",
    "from keras.preprocessing.image import ImageDataGenerator"
   ]
  },
  {
   "cell_type": "code",
   "execution_count": 2,
   "id": "7b138fc3",
   "metadata": {},
   "outputs": [],
   "source": [
    "train_data = r\"C:\\Users\\pavani\\OneDrive\\Pictures\\drowsiness dataset\\train11\\train\""
   ]
  },
  {
   "cell_type": "code",
   "execution_count": 3,
   "id": "31e832d2",
   "metadata": {},
   "outputs": [],
   "source": [
    "valid_data = r\"C:\\Users\\pavani\\OneDrive\\Pictures\\drowsiness dataset\\train11\\val\""
   ]
  },
  {
   "cell_type": "code",
   "execution_count": 4,
   "id": "e189b9df",
   "metadata": {},
   "outputs": [],
   "source": [
    "training_gen = ImageDataGenerator(rescale=1.0/255,\n",
    "                               rotation_range=40,\n",
    "                               width_shift_range=0.2,\n",
    "                               height_shift_range=0.2)"
   ]
  },
  {
   "cell_type": "code",
   "execution_count": 5,
   "id": "96b174c7",
   "metadata": {},
   "outputs": [],
   "source": [
    "valid_gen = ImageDataGenerator(rescale=1.0/255,\n",
    "                              rotation_range=40,\n",
    "                              width_shift_range=0.2,\n",
    "                              height_shift_range=0.2)"
   ]
  },
  {
   "cell_type": "code",
   "execution_count": 6,
   "id": "f97d3ba6",
   "metadata": {},
   "outputs": [
    {
     "name": "stdout",
     "output_type": "stream",
     "text": [
      "Found 3200 images belonging to 2 classes.\n"
     ]
    }
   ],
   "source": [
    "training_data=training_gen.flow_from_directory(train_data,target_size=(60,60),\n",
    "                                                                 batch_size=32,class_mode='binary')"
   ]
  },
  {
   "cell_type": "code",
   "execution_count": 7,
   "id": "ac60f77b",
   "metadata": {},
   "outputs": [
    {
     "name": "stdout",
     "output_type": "stream",
     "text": [
      "Found 800 images belonging to 2 classes.\n"
     ]
    }
   ],
   "source": [
    "validation_data = valid_gen.flow_from_directory(valid_data,target_size=(60,60),\n",
    "                                               batch_size=32,class_mode='binary')"
   ]
  },
  {
   "cell_type": "code",
   "execution_count": 8,
   "id": "a78a648a",
   "metadata": {},
   "outputs": [
    {
     "data": {
      "text/plain": [
       "{'Closed_Eyes': 0, 'Open_Eyes': 1}"
      ]
     },
     "execution_count": 8,
     "metadata": {},
     "output_type": "execute_result"
    }
   ],
   "source": [
    "training_data.class_indices"
   ]
  },
  {
   "cell_type": "code",
   "execution_count": 9,
   "id": "15e2e33c",
   "metadata": {},
   "outputs": [
    {
     "data": {
      "text/plain": [
       "{'Closed_Eyes': 0, 'Open_Eyes': 1}"
      ]
     },
     "execution_count": 9,
     "metadata": {},
     "output_type": "execute_result"
    }
   ],
   "source": [
    "validation_data.class_indices"
   ]
  },
  {
   "cell_type": "code",
   "execution_count": 11,
   "id": "f900a207",
   "metadata": {},
   "outputs": [],
   "source": [
    "cnn= keras.models.Sequential([\n",
    "                             keras.layers.Conv2D(filters=32,kernel_size=3,input_shape=[60,60,3]),\n",
    "                             keras.layers.MaxPooling2D(pool_size=(2,2)),\n",
    "                             keras.layers.Conv2D(filters=64,kernel_size=3),\n",
    "                             keras.layers.MaxPooling2D(pool_size=(2,2)),\n",
    "                             keras.layers.Conv2D(filters=128,kernel_size=3),\n",
    "                             keras.layers.MaxPooling2D(pool_size=(2,2)),\n",
    "    \n",
    "                             keras.layers.Dropout(0.5),\n",
    "                             keras.layers.Flatten(),\n",
    "                             keras.layers.Dense(units=128,activation='PReLU'),\n",
    "                             keras.layers.Dropout(0.1),\n",
    "                             keras.layers.Dense(units=256,activation='PReLU'),\n",
    "                             keras.layers.Dropout(0.25),\n",
    "                             keras.layers.Dense(units=1,kernel_regularizer=keras.regularizers.l2(0.01),activation='sigmoid')\n",
    "])"
   ]
  },
  {
   "cell_type": "code",
   "execution_count": 12,
   "id": "432f7804",
   "metadata": {},
   "outputs": [],
   "source": [
    "cnn.compile(optimizer='adam',loss='binary_crossentropy',metrics=['accuracy'])"
   ]
  },
  {
   "cell_type": "code",
   "execution_count": 13,
   "id": "b5848091",
   "metadata": {},
   "outputs": [
    {
     "name": "stdout",
     "output_type": "stream",
     "text": [
      "Epoch 1/10\n",
      "100/100 [==============================] - 16s 148ms/step - loss: 0.4883 - accuracy: 0.7422 - val_loss: 0.3247 - val_accuracy: 0.8800\n",
      "Epoch 2/10\n",
      "100/100 [==============================] - 9s 91ms/step - loss: 0.2899 - accuracy: 0.8834 - val_loss: 0.2205 - val_accuracy: 0.9150\n",
      "Epoch 3/10\n",
      "100/100 [==============================] - 9s 94ms/step - loss: 0.2187 - accuracy: 0.9166 - val_loss: 0.1636 - val_accuracy: 0.9400\n",
      "Epoch 4/10\n",
      "100/100 [==============================] - 9s 94ms/step - loss: 0.1783 - accuracy: 0.9334 - val_loss: 0.1357 - val_accuracy: 0.9538\n",
      "Epoch 5/10\n",
      "100/100 [==============================] - 10s 97ms/step - loss: 0.1937 - accuracy: 0.9247 - val_loss: 0.1164 - val_accuracy: 0.9588\n",
      "Epoch 6/10\n",
      "100/100 [==============================] - 10s 99ms/step - loss: 0.1204 - accuracy: 0.9591 - val_loss: 0.0886 - val_accuracy: 0.9663\n",
      "Epoch 7/10\n",
      "100/100 [==============================] - 10s 95ms/step - loss: 0.1128 - accuracy: 0.9634 - val_loss: 0.0793 - val_accuracy: 0.9750\n",
      "Epoch 8/10\n",
      "100/100 [==============================] - 10s 95ms/step - loss: 0.0816 - accuracy: 0.9753 - val_loss: 0.0381 - val_accuracy: 0.9900\n",
      "Epoch 9/10\n",
      "100/100 [==============================] - 9s 94ms/step - loss: 0.0808 - accuracy: 0.9700 - val_loss: 0.0455 - val_accuracy: 0.9825\n",
      "Epoch 10/10\n",
      "100/100 [==============================] - 9s 94ms/step - loss: 0.0720 - accuracy: 0.9762 - val_loss: 0.0810 - val_accuracy: 0.9762\n"
     ]
    },
    {
     "data": {
      "text/plain": [
       "<keras.callbacks.History at 0x22eb5454af0>"
      ]
     },
     "execution_count": 13,
     "metadata": {},
     "output_type": "execute_result"
    }
   ],
   "source": [
    "cnn.fit(training_data,epochs=10,verbose=1,validation_data=validation_data)"
   ]
  },
  {
   "cell_type": "code",
   "execution_count": 14,
   "id": "dce54372",
   "metadata": {},
   "outputs": [
    {
     "name": "stdout",
     "output_type": "stream",
     "text": [
      "Model: \"sequential_1\"\n",
      "_________________________________________________________________\n",
      " Layer (type)                Output Shape              Param #   \n",
      "=================================================================\n",
      " conv2d_3 (Conv2D)           (None, 58, 58, 32)        896       \n",
      "                                                                 \n",
      " max_pooling2d_3 (MaxPooling  (None, 29, 29, 32)       0         \n",
      " 2D)                                                             \n",
      "                                                                 \n",
      " conv2d_4 (Conv2D)           (None, 27, 27, 64)        18496     \n",
      "                                                                 \n",
      " max_pooling2d_4 (MaxPooling  (None, 13, 13, 64)       0         \n",
      " 2D)                                                             \n",
      "                                                                 \n",
      " conv2d_5 (Conv2D)           (None, 11, 11, 128)       73856     \n",
      "                                                                 \n",
      " max_pooling2d_5 (MaxPooling  (None, 5, 5, 128)        0         \n",
      " 2D)                                                             \n",
      "                                                                 \n",
      " dropout_3 (Dropout)         (None, 5, 5, 128)         0         \n",
      "                                                                 \n",
      " flatten_1 (Flatten)         (None, 3200)              0         \n",
      "                                                                 \n",
      " dense_3 (Dense)             (None, 128)               409856    \n",
      "                                                                 \n",
      " dropout_4 (Dropout)         (None, 128)               0         \n",
      "                                                                 \n",
      " dense_4 (Dense)             (None, 256)               33280     \n",
      "                                                                 \n",
      " dropout_5 (Dropout)         (None, 256)               0         \n",
      "                                                                 \n",
      " dense_5 (Dense)             (None, 1)                 257       \n",
      "                                                                 \n",
      "=================================================================\n",
      "Total params: 536,641\n",
      "Trainable params: 536,641\n",
      "Non-trainable params: 0\n",
      "_________________________________________________________________\n"
     ]
    }
   ],
   "source": [
    "cnn.summary()"
   ]
  },
  {
   "cell_type": "code",
   "execution_count": 10,
   "id": "f1ad40a9",
   "metadata": {},
   "outputs": [],
   "source": [
    "from keras.applications.vgg16 import VGG16\n",
    "from keras.layers import Flatten\n",
    "from glob import glob # this libray is used to display the number of classes  in the dataset\n",
    "from keras.models import Model\n",
    "from tensorflow.keras.utils import load_img\n",
    "from tensorflow.keras.utils import img_to_array\n",
    "import numpy as np"
   ]
  },
  {
   "cell_type": "code",
   "execution_count": 14,
   "id": "33cfdd1b",
   "metadata": {},
   "outputs": [],
   "source": [
    "image_size= [60,60,3]"
   ]
  },
  {
   "cell_type": "code",
   "execution_count": 15,
   "id": "4233bab7",
   "metadata": {},
   "outputs": [],
   "source": [
    "vgg16 = VGG16(input_shape=image_size,weights='imagenet',include_top=False)"
   ]
  },
  {
   "cell_type": "code",
   "execution_count": 16,
   "id": "5d2f4dc6",
   "metadata": {},
   "outputs": [],
   "source": [
    "model = Sequential()\n",
    "model.add(vgg16)\n",
    "model.add(Flatten())\n",
    "model.add(Dense(256,activation='relu'))\n",
    "model.add(Dense(1,activation='sigmoid'))"
   ]
  },
  {
   "cell_type": "code",
   "execution_count": 17,
   "id": "48cb7c83",
   "metadata": {},
   "outputs": [
    {
     "name": "stdout",
     "output_type": "stream",
     "text": [
      "Model: \"sequential_1\"\n",
      "_________________________________________________________________\n",
      " Layer (type)                Output Shape              Param #   \n",
      "=================================================================\n",
      " vgg16 (Functional)          (None, 1, 1, 512)         14714688  \n",
      "                                                                 \n",
      " flatten_1 (Flatten)         (None, 512)               0         \n",
      "                                                                 \n",
      " dense_2 (Dense)             (None, 256)               131328    \n",
      "                                                                 \n",
      " dense_3 (Dense)             (None, 1)                 257       \n",
      "                                                                 \n",
      "=================================================================\n",
      "Total params: 14,846,273\n",
      "Trainable params: 14,846,273\n",
      "Non-trainable params: 0\n",
      "_________________________________________________________________\n"
     ]
    }
   ],
   "source": [
    "model.summary()"
   ]
  },
  {
   "cell_type": "code",
   "execution_count": 18,
   "id": "02418c25",
   "metadata": {},
   "outputs": [
    {
     "name": "stdout",
     "output_type": "stream",
     "text": [
      "Model: \"vgg16\"\n",
      "_________________________________________________________________\n",
      " Layer (type)                Output Shape              Param #   \n",
      "=================================================================\n",
      " input_2 (InputLayer)        [(None, 60, 60, 3)]       0         \n",
      "                                                                 \n",
      " block1_conv1 (Conv2D)       (None, 60, 60, 64)        1792      \n",
      "                                                                 \n",
      " block1_conv2 (Conv2D)       (None, 60, 60, 64)        36928     \n",
      "                                                                 \n",
      " block1_pool (MaxPooling2D)  (None, 30, 30, 64)        0         \n",
      "                                                                 \n",
      " block2_conv1 (Conv2D)       (None, 30, 30, 128)       73856     \n",
      "                                                                 \n",
      " block2_conv2 (Conv2D)       (None, 30, 30, 128)       147584    \n",
      "                                                                 \n",
      " block2_pool (MaxPooling2D)  (None, 15, 15, 128)       0         \n",
      "                                                                 \n",
      " block3_conv1 (Conv2D)       (None, 15, 15, 256)       295168    \n",
      "                                                                 \n",
      " block3_conv2 (Conv2D)       (None, 15, 15, 256)       590080    \n",
      "                                                                 \n",
      " block3_conv3 (Conv2D)       (None, 15, 15, 256)       590080    \n",
      "                                                                 \n",
      " block3_pool (MaxPooling2D)  (None, 7, 7, 256)         0         \n",
      "                                                                 \n",
      " block4_conv1 (Conv2D)       (None, 7, 7, 512)         1180160   \n",
      "                                                                 \n",
      " block4_conv2 (Conv2D)       (None, 7, 7, 512)         2359808   \n",
      "                                                                 \n",
      " block4_conv3 (Conv2D)       (None, 7, 7, 512)         2359808   \n",
      "                                                                 \n",
      " block4_pool (MaxPooling2D)  (None, 3, 3, 512)         0         \n",
      "                                                                 \n",
      " block5_conv1 (Conv2D)       (None, 3, 3, 512)         2359808   \n",
      "                                                                 \n",
      " block5_conv2 (Conv2D)       (None, 3, 3, 512)         2359808   \n",
      "                                                                 \n",
      " block5_conv3 (Conv2D)       (None, 3, 3, 512)         2359808   \n",
      "                                                                 \n",
      " block5_pool (MaxPooling2D)  (None, 1, 1, 512)         0         \n",
      "                                                                 \n",
      "=================================================================\n",
      "Total params: 14,714,688\n",
      "Trainable params: 14,714,688\n",
      "Non-trainable params: 0\n",
      "_________________________________________________________________\n"
     ]
    }
   ],
   "source": [
    "vgg16.summary()"
   ]
  },
  {
   "cell_type": "code",
   "execution_count": 16,
   "id": "635c370e",
   "metadata": {},
   "outputs": [],
   "source": [
    "vgg16.trainable = False # to stop the activation of vweights and output layer display of that pretrained model"
   ]
  },
  {
   "cell_type": "code",
   "execution_count": 19,
   "id": "1a8aa3c8",
   "metadata": {},
   "outputs": [],
   "source": [
    "model.compile(optimizer='adam',loss='binary_crossentropy',metrics=['accuracy'])"
   ]
  },
  {
   "cell_type": "code",
   "execution_count": 175,
   "id": "338258b3",
   "metadata": {},
   "outputs": [
    {
     "name": "stdout",
     "output_type": "stream",
     "text": [
      "Epoch 1/10\n",
      "100/100 [==============================] - ETA: 0s - loss: 0.0039 - accuracy: 0.9987\n",
      "Epoch 1: saving model to newdrowsinessvggl6model.hdf5\n",
      "100/100 [==============================] - 133s 1s/step - loss: 0.0039 - accuracy: 0.9987 - val_loss: 8.5844e-04 - val_accuracy: 1.0000\n",
      "Epoch 2/10\n",
      "100/100 [==============================] - ETA: 0s - loss: 0.0021 - accuracy: 0.9994\n",
      "Epoch 2: saving model to newdrowsinessvggl6model.hdf5\n",
      "100/100 [==============================] - 204s 2s/step - loss: 0.0021 - accuracy: 0.9994 - val_loss: 0.0081 - val_accuracy: 0.9987\n",
      "Epoch 3/10\n",
      "100/100 [==============================] - ETA: 0s - loss: 0.0760 - accuracy: 0.9794\n",
      "Epoch 3: saving model to newdrowsinessvggl6model.hdf5\n",
      "100/100 [==============================] - 212s 2s/step - loss: 0.0760 - accuracy: 0.9794 - val_loss: 0.0154 - val_accuracy: 0.9975\n",
      "Epoch 4/10\n",
      "100/100 [==============================] - ETA: 0s - loss: 0.3270 - accuracy: 0.8603 \n",
      "Epoch 4: saving model to newdrowsinessvggl6model.hdf5\n",
      "100/100 [==============================] - 3478s 35s/step - loss: 0.3270 - accuracy: 0.8603 - val_loss: 0.1939 - val_accuracy: 0.9825\n",
      "Epoch 5/10\n",
      "100/100 [==============================] - ETA: 0s - loss: 0.2388 - accuracy: 0.9438\n",
      "Epoch 5: saving model to newdrowsinessvggl6model.hdf5\n",
      "100/100 [==============================] - 133s 1s/step - loss: 0.2388 - accuracy: 0.9438 - val_loss: 0.0049 - val_accuracy: 0.9975\n",
      "Epoch 6/10\n",
      "100/100 [==============================] - ETA: 0s - loss: 0.0841 - accuracy: 0.9816\n",
      "Epoch 6: saving model to newdrowsinessvggl6model.hdf5\n",
      "100/100 [==============================] - 129s 1s/step - loss: 0.0841 - accuracy: 0.9816 - val_loss: 0.0517 - val_accuracy: 0.9850\n",
      "Epoch 7/10\n",
      "100/100 [==============================] - ETA: 0s - loss: 0.1609 - accuracy: 0.9547\n",
      "Epoch 7: saving model to newdrowsinessvggl6model.hdf5\n",
      "100/100 [==============================] - 129s 1s/step - loss: 0.1609 - accuracy: 0.9547 - val_loss: 0.0905 - val_accuracy: 0.9825\n",
      "Epoch 8/10\n",
      "100/100 [==============================] - ETA: 0s - loss: 0.0499 - accuracy: 0.9875\n",
      "Epoch 8: saving model to newdrowsinessvggl6model.hdf5\n",
      "100/100 [==============================] - 130s 1s/step - loss: 0.0499 - accuracy: 0.9875 - val_loss: 0.0138 - val_accuracy: 0.9962\n",
      "Epoch 9/10\n",
      "100/100 [==============================] - ETA: 0s - loss: 0.0232 - accuracy: 0.9925\n",
      "Epoch 9: saving model to newdrowsinessvggl6model.hdf5\n",
      "100/100 [==============================] - 130s 1s/step - loss: 0.0232 - accuracy: 0.9925 - val_loss: 0.0085 - val_accuracy: 0.9987\n",
      "Epoch 10/10\n",
      "100/100 [==============================] - ETA: 0s - loss: 0.0159 - accuracy: 0.9947\n",
      "Epoch 10: saving model to newdrowsinessvggl6model.hdf5\n",
      "100/100 [==============================] - 130s 1s/step - loss: 0.0159 - accuracy: 0.9947 - val_loss: 0.0109 - val_accuracy: 0.9962\n"
     ]
    }
   ],
   "source": [
    "hist = model.fit(training_data,epochs=10,validation_data=validation_data,callbacks=[callbacks])"
   ]
  },
  {
   "cell_type": "code",
   "execution_count": 176,
   "id": "0192bc4e",
   "metadata": {},
   "outputs": [],
   "source": [
    "import cv2"
   ]
  },
  {
   "cell_type": "code",
   "execution_count": 177,
   "id": "c9bbb77b",
   "metadata": {},
   "outputs": [],
   "source": [
    "test_img = cv2.imread(r\"C:\\Users\\pavani\\OneDrive\\Pictures\\drowsiness dataset\\train\\val\\Closed_Eyes\\s0037_00268_1_0_0_0_0_01.png\")"
   ]
  },
  {
   "cell_type": "code",
   "execution_count": 178,
   "id": "d04a938d",
   "metadata": {},
   "outputs": [
    {
     "data": {
      "text/plain": [
       "<matplotlib.image.AxesImage at 0x192032ac6d0>"
      ]
     },
     "execution_count": 178,
     "metadata": {},
     "output_type": "execute_result"
    },
    {
     "data": {
      "image/png": "[encoded data removed]",
      "text/plain": [
       "<Figure size 640x480 with 1 Axes>"
      ]
     },
     "metadata": {},
     "output_type": "display_data"
    }
   ],
   "source": [
    "plt.imshow(test_img)"
   ]
  },
  {
   "cell_type": "code",
   "execution_count": 179,
   "id": "d71ec48b",
   "metadata": {},
   "outputs": [
    {
     "data": {
      "text/plain": [
       "(78, 78, 3)"
      ]
     },
     "execution_count": 179,
     "metadata": {},
     "output_type": "execute_result"
    }
   ],
   "source": [
    "test_img.shape"
   ]
  },
  {
   "cell_type": "code",
   "execution_count": 180,
   "id": "05ec87d3",
   "metadata": {},
   "outputs": [],
   "source": [
    "test_imgre = cv2.resize(test_img,(60,60))"
   ]
  },
  {
   "cell_type": "code",
   "execution_count": 181,
   "id": "81fd291c",
   "metadata": {},
   "outputs": [],
   "source": [
    "test_reshape = test_imgre.reshape((1,60,60,3))"
   ]
  },
  {
   "cell_type": "code",
   "execution_count": 182,
   "id": "34d2b35b",
   "metadata": {},
   "outputs": [
    {
     "name": "stdout",
     "output_type": "stream",
     "text": [
      "1/1 [==============================] - 0s 49ms/step\n"
     ]
    }
   ],
   "source": [
    "res = model.predict(test_reshape)"
   ]
  },
  {
   "cell_type": "code",
   "execution_count": 183,
   "id": "4fb7e2b9",
   "metadata": {},
   "outputs": [
    {
     "data": {
      "text/plain": [
       "0.0"
      ]
     },
     "execution_count": 183,
     "metadata": {},
     "output_type": "execute_result"
    }
   ],
   "source": [
    "res[0][0]"
   ]
  },
  {
   "cell_type": "code",
   "execution_count": 184,
   "id": "df5e540d",
   "metadata": {},
   "outputs": [],
   "source": [
    "from keras.callbacks import ModelCheckpoint\n",
    "from keras.models import load_model"
   ]
  },
  {
   "cell_type": "code",
   "execution_count": 185,
   "id": "3ceab697",
   "metadata": {},
   "outputs": [],
   "source": [
    "callbacks = ModelCheckpoint('newdrowsinessvggl6model.hdf5',monitor='val_acc',verbose=1)"
   ]
  },
  {
   "cell_type": "code",
   "execution_count": 186,
   "id": "41c2e1d1",
   "metadata": {},
   "outputs": [],
   "source": [
    "model.save_weights('newdrowsinessvgg16model.hdf5')"
   ]
  },
  {
   "cell_type": "code",
   "execution_count": 187,
   "id": "bd94d8c0",
   "metadata": {},
   "outputs": [],
   "source": [
    "model.save('newdrowsinessvgg16model.hdf5',save_format='hdf5')"
   ]
  },
  {
   "cell_type": "code",
   "execution_count": null,
   "id": "e604f1ef",
   "metadata": {},
   "outputs": [],
   "source": []
  }
 ],
 "metadata": {
  "kernelspec": {
   "display_name": "Python 3 (ipykernel)",
   "language": "python",
   "name": "python3"
  },
  "language_info": {
   "codemirror_mode": {
    "name": "ipython",
    "version": 3
   },
   "file_extension": ".py",
   "mimetype": "text/x-python",
   "name": "python",
   "nbconvert_exporter": "python",
   "pygments_lexer": "ipython3",
   "version": "3.9.7"
  }
 },
 "nbformat": 4,
 "nbformat_minor": 5
}
