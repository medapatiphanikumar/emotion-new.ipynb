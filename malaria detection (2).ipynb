{
 "cells": [
  {
   "cell_type": "code",
   "execution_count": 2,
   "id": "245e1219",
   "metadata": {},
   "outputs": [],
   "source": [
    "import keras\n",
    "from keras.models import Sequential\n",
    "from keras.layers import Dense,PReLU,Dropout\n",
    "from keras.preprocessing.image import ImageDataGenerator\n",
    "from keras.optimizers import Adam\n",
    "import splitfolders\n",
    "import os"
   ]
  },
  {
   "cell_type": "code",
   "execution_count": 2,
   "id": "6823e97b",
   "metadata": {},
   "outputs": [],
   "source": [
    "input_folders = r\"C:\\Users\\pavani\\OneDrive\\Pictures\\cell_images\""
   ]
  },
  {
   "cell_type": "code",
   "execution_count": 3,
   "id": "734eec46",
   "metadata": {},
   "outputs": [],
   "source": [
    "out = r\"C:\\Users\\pavani\\OneDrive\\Pictures\\cell_images\\new\""
   ]
  },
  {
   "cell_type": "code",
   "execution_count": 8,
   "id": "6278dfb2",
   "metadata": {},
   "outputs": [
    {
     "name": "stderr",
     "output_type": "stream",
     "text": [
      "Copying files: 27560 files [02:37, 175.18 files/s]\n"
     ]
    }
   ],
   "source": [
    "splitfolders.ratio(input_folders,output=out,ratio=(.8,.2),group_prefix=None)"
   ]
  },
  {
   "cell_type": "code",
   "execution_count": 2,
   "id": "474cd54a",
   "metadata": {},
   "outputs": [],
   "source": [
    "training_gen=ImageDataGenerator(rescale=1.0/255,\n",
    "                               rotation_range=40,\n",
    "                               width_shift_range=0.2,\n",
    "                               height_shift_range=0.2)"
   ]
  },
  {
   "cell_type": "code",
   "execution_count": 4,
   "id": "380e250d",
   "metadata": {},
   "outputs": [],
   "source": [
    "train_data = r\"C:\\Users\\pavani\\OneDrive\\Pictures\\cell_images\\new\\train\""
   ]
  },
  {
   "cell_type": "code",
   "execution_count": 5,
   "id": "59a63294",
   "metadata": {},
   "outputs": [],
   "source": [
    "test_data = r\"C:\\Users\\pavani\\OneDrive\\Pictures\\cell_images\\new\\val\""
   ]
  },
  {
   "cell_type": "code",
   "execution_count": 5,
   "id": "a98d4131",
   "metadata": {},
   "outputs": [
    {
     "name": "stdout",
     "output_type": "stream",
     "text": [
      "Found 22046 images belonging to 2 classes.\n"
     ]
    }
   ],
   "source": [
    "training_data = training_gen.flow_from_directory(train_data,target_size=(100,100),batch_size=32,class_mode='binary')"
   ]
  },
  {
   "cell_type": "code",
   "execution_count": 6,
   "id": "e3e0cd2a",
   "metadata": {},
   "outputs": [
    {
     "data": {
      "text/plain": [
       "{'Parasitized': 0, 'Uninfected': 1}"
      ]
     },
     "execution_count": 6,
     "metadata": {},
     "output_type": "execute_result"
    }
   ],
   "source": [
    "training_data.class_indices"
   ]
  },
  {
   "cell_type": "code",
   "execution_count": 7,
   "id": "5e8d7ebb",
   "metadata": {},
   "outputs": [],
   "source": [
    "test_gen = ImageDataGenerator(rescale=1.0/255,\n",
    "                             rotation_range=40,\n",
    "                             width_shift_range=0.2,\n",
    "                             height_shift_range=0.2)"
   ]
  },
  {
   "cell_type": "code",
   "execution_count": 8,
   "id": "143c5c0d",
   "metadata": {},
   "outputs": [
    {
     "name": "stdout",
     "output_type": "stream",
     "text": [
      "Found 5512 images belonging to 2 classes.\n"
     ]
    }
   ],
   "source": [
    "valid_data = test_gen.flow_from_directory(test_data,target_size=(100,100),batch_size=32,class_mode='binary')"
   ]
  },
  {
   "cell_type": "code",
   "execution_count": 9,
   "id": "a91a4436",
   "metadata": {},
   "outputs": [],
   "source": [
    "cnn= keras.models.Sequential([\n",
    "                             keras.layers.Conv2D(filters=32,kernel_size=3,input_shape=(100,100,3)),\n",
    "                             keras.layers.MaxPooling2D(pool_size=(2,2)),\n",
    "                             keras.layers.Conv2D(filters=64,kernel_size=3),\n",
    "                             keras.layers.MaxPooling2D(pool_size=(2,2)),\n",
    "                             keras.layers.Conv2D(filters=128,kernel_size=3),\n",
    "                             keras.layers.MaxPooling2D(pool_size=(2,2)),\n",
    "                             keras.layers.Conv2D(filters=256,kernel_size=3),\n",
    "                             keras.layers.MaxPooling2D(pool_size=(2,2)),\n",
    "    \n",
    "                             keras.layers.Dropout(0.5),\n",
    "                             keras.layers.Flatten(),\n",
    "                             keras.layers.Dense(units=128,activation='relu'),\n",
    "                             keras.layers.Dropout(0.1),\n",
    "                             keras.layers.Dense(units=256,activation='relu'),\n",
    "                             keras.layers.Dropout(0.25),\n",
    "                             keras.layers.Dense(units=128,activation='relu'),\n",
    "                             keras.layers.Dropout(0.1),\n",
    "                             keras.layers.Dense(units=1,activation='sigmoid')\n",
    "])"
   ]
  },
  {
   "cell_type": "code",
   "execution_count": 10,
   "id": "df584a02",
   "metadata": {},
   "outputs": [],
   "source": [
    "cnn.compile(optimizer='adam',loss=keras.losses.binary_crossentropy,metrics=['accuracy'])"
   ]
  },
  {
   "cell_type": "code",
   "execution_count": 11,
   "id": "b489dcf4",
   "metadata": {},
   "outputs": [],
   "source": [
    "from keras.callbacks import ModelCheckpoint,EarlyStopping"
   ]
  },
  {
   "cell_type": "code",
   "execution_count": 14,
   "id": "c3bec518",
   "metadata": {},
   "outputs": [],
   "source": [
    "es = EarlyStopping(monitor='val_accuracy',min_delta=0.01,patience=3,verbose=1,mode='auto')\n",
    "ms = ModelCheckpoint(monitor='val_accuracy',filepath=',/bestmodel.h5',verbose=1,save_best_only=True,mode='auto')\n",
    "cd = [es,ms]"
   ]
  },
  {
   "cell_type": "code",
   "execution_count": 15,
   "id": "40af6a00",
   "metadata": {},
   "outputs": [
    {
     "name": "stderr",
     "output_type": "stream",
     "text": [
      "C:\\Users\\pavani\\AppData\\Local\\Temp\\ipykernel_21168\\3360712852.py:1: UserWarning: `Model.fit_generator` is deprecated and will be removed in a future version. Please use `Model.fit`, which supports generators.\n",
      "  hs = cnn.fit_generator(generator=training_data,epochs=10,verbose=1,validation_data=valid_data,validation_steps=16,callbacks=cd)\n"
     ]
    },
    {
     "name": "stdout",
     "output_type": "stream",
     "text": [
      "Epoch 1/10\n",
      "689/689 [==============================] - ETA: 0s - loss: 0.4393 - accuracy: 0.7863\n",
      "Epoch 1: val_accuracy improved from -inf to 0.89844, saving model to ,\\bestmodel.h5\n",
      "689/689 [==============================] - 150s 217ms/step - loss: 0.4393 - accuracy: 0.7863 - val_loss: 0.3138 - val_accuracy: 0.8984\n",
      "Epoch 2/10\n",
      "689/689 [==============================] - ETA: 0s - loss: 0.2662 - accuracy: 0.9034\n",
      "Epoch 2: val_accuracy improved from 0.89844 to 0.91602, saving model to ,\\bestmodel.h5\n",
      "689/689 [==============================] - 144s 209ms/step - loss: 0.2662 - accuracy: 0.9034 - val_loss: 0.2072 - val_accuracy: 0.9160\n",
      "Epoch 3/10\n",
      "689/689 [==============================] - ETA: 0s - loss: 0.2475 - accuracy: 0.9146\n",
      "Epoch 3: val_accuracy improved from 0.91602 to 0.92188, saving model to ,\\bestmodel.h5\n",
      "689/689 [==============================] - 144s 209ms/step - loss: 0.2475 - accuracy: 0.9146 - val_loss: 0.2373 - val_accuracy: 0.9219\n",
      "Epoch 4/10\n",
      "689/689 [==============================] - ETA: 0s - loss: 0.2408 - accuracy: 0.9169\n",
      "Epoch 4: val_accuracy did not improve from 0.92188\n",
      "689/689 [==============================] - 142s 206ms/step - loss: 0.2408 - accuracy: 0.9169 - val_loss: 0.2359 - val_accuracy: 0.9121\n",
      "Epoch 5/10\n",
      "689/689 [==============================] - ETA: 0s - loss: 0.2279 - accuracy: 0.9216\n",
      "Epoch 5: val_accuracy improved from 0.92188 to 0.93164, saving model to ,\\bestmodel.h5\n",
      "689/689 [==============================] - 143s 207ms/step - loss: 0.2279 - accuracy: 0.9216 - val_loss: 0.1854 - val_accuracy: 0.9316\n",
      "Epoch 6/10\n",
      "689/689 [==============================] - ETA: 0s - loss: 0.2285 - accuracy: 0.9223\n",
      "Epoch 6: val_accuracy did not improve from 0.93164\n",
      "689/689 [==============================] - 143s 208ms/step - loss: 0.2285 - accuracy: 0.9223 - val_loss: 0.2290 - val_accuracy: 0.9141\n",
      "Epoch 7/10\n",
      "689/689 [==============================] - ETA: 0s - loss: 0.2228 - accuracy: 0.9245\n",
      "Epoch 7: val_accuracy improved from 0.93164 to 0.93555, saving model to ,\\bestmodel.h5\n",
      "689/689 [==============================] - 143s 208ms/step - loss: 0.2228 - accuracy: 0.9245 - val_loss: 0.1812 - val_accuracy: 0.9355\n",
      "Epoch 8/10\n",
      "689/689 [==============================] - ETA: 0s - loss: 0.2199 - accuracy: 0.9255\n",
      "Epoch 8: val_accuracy improved from 0.93555 to 0.94531, saving model to ,\\bestmodel.h5\n",
      "689/689 [==============================] - 151s 219ms/step - loss: 0.2199 - accuracy: 0.9255 - val_loss: 0.1712 - val_accuracy: 0.9453\n",
      "Epoch 9/10\n",
      "689/689 [==============================] - ETA: 0s - loss: 0.2187 - accuracy: 0.9248\n",
      "Epoch 9: val_accuracy did not improve from 0.94531\n",
      "689/689 [==============================] - 143s 207ms/step - loss: 0.2187 - accuracy: 0.9248 - val_loss: 0.2001 - val_accuracy: 0.9199\n",
      "Epoch 10/10\n",
      "689/689 [==============================] - ETA: 0s - loss: 0.2201 - accuracy: 0.9247\n",
      "Epoch 10: val_accuracy did not improve from 0.94531\n",
      "689/689 [==============================] - 145s 211ms/step - loss: 0.2201 - accuracy: 0.9247 - val_loss: 0.2012 - val_accuracy: 0.9277\n"
     ]
    }
   ],
   "source": [
    "hs = cnn.fit_generator(generator=training_data,epochs=10,verbose=1,validation_data=valid_data,validation_steps=16,callbacks=cd)"
   ]
  },
  {
   "cell_type": "code",
   "execution_count": 21,
   "id": "73b6cbaf",
   "metadata": {},
   "outputs": [
    {
     "name": "stderr",
     "output_type": "stream",
     "text": [
      "C:\\Users\\pavani\\AppData\\Local\\Temp\\ipykernel_21168\\1534170427.py:1: UserWarning: `Model.evaluate_generator` is deprecated and will be removed in a future version. Please use `Model.evaluate`, which supports generators.\n",
      "  acc= cnn.evaluate_generator(valid_data)[0]\n"
     ]
    }
   ],
   "source": [
    "acc= cnn.evaluate_generator(valid_data)[0]"
   ]
  },
  {
   "cell_type": "code",
   "execution_count": 22,
   "id": "86471183",
   "metadata": {},
   "outputs": [
    {
     "data": {
      "text/plain": [
       "20.40867656469345"
      ]
     },
     "execution_count": 22,
     "metadata": {},
     "output_type": "execute_result"
    }
   ],
   "source": [
    "acc*100"
   ]
  },
  {
   "cell_type": "code",
   "execution_count": 33,
   "id": "e20b8187",
   "metadata": {},
   "outputs": [],
   "source": [
    "from keras.utils import load_img,img_to_array\n",
    "import numpy as np"
   ]
  },
  {
   "cell_type": "code",
   "execution_count": 39,
   "id": "000a4859",
   "metadata": {},
   "outputs": [],
   "source": [
    "path = r\"C:\\Users\\pavani\\OneDrive\\Pictures\\cell_images\\new\\train\\Parasitized\\C59P20thinF_IMG_20150803_113139_cell_37.png\""
   ]
  },
  {
   "cell_type": "code",
   "execution_count": 40,
   "id": "df732660",
   "metadata": {},
   "outputs": [],
   "source": [
    "img = load_img(path,target_size=(100,100))"
   ]
  },
  {
   "cell_type": "code",
   "execution_count": 41,
   "id": "41ad64b6",
   "metadata": {},
   "outputs": [],
   "source": [
    "input_arr = img_to_array(img)/255"
   ]
  },
  {
   "cell_type": "code",
   "execution_count": 42,
   "id": "b88d51a7",
   "metadata": {},
   "outputs": [
    {
     "data": {
      "text/plain": [
       "(100, 100, 3)"
      ]
     },
     "execution_count": 42,
     "metadata": {},
     "output_type": "execute_result"
    }
   ],
   "source": [
    "input_arr.shape"
   ]
  },
  {
   "cell_type": "code",
   "execution_count": 43,
   "id": "ebb8ac2a",
   "metadata": {},
   "outputs": [],
   "source": [
    "input_arr = np.expand_dims(input_arr,axis=0)"
   ]
  },
  {
   "cell_type": "code",
   "execution_count": 44,
   "id": "2df4624c",
   "metadata": {},
   "outputs": [
    {
     "name": "stdout",
     "output_type": "stream",
     "text": [
      "1/1 [==============================] - 0s 25ms/step\n"
     ]
    }
   ],
   "source": [
    "pred = cnn.predict(input_arr)"
   ]
  },
  {
   "cell_type": "code",
   "execution_count": 45,
   "id": "a4121453",
   "metadata": {},
   "outputs": [
    {
     "data": {
      "text/plain": [
       "array([[0.03260381]], dtype=float32)"
      ]
     },
     "execution_count": 45,
     "metadata": {},
     "output_type": "execute_result"
    }
   ],
   "source": [
    "pred"
   ]
  },
  {
   "cell_type": "code",
   "execution_count": 46,
   "id": "1f6e0823",
   "metadata": {},
   "outputs": [],
   "source": [
    "import cv2\n",
    "import matplotlib.pyplot as plt"
   ]
  },
  {
   "cell_type": "code",
   "execution_count": 54,
   "id": "4c198183",
   "metadata": {},
   "outputs": [],
   "source": [
    "img = cv2.imread(r\"C:\\Users\\pavani\\OneDrive\\Pictures\\cell_images\\Uninfected\\C1_thinF_IMG_20150604_104942_cell_151.png\")"
   ]
  },
  {
   "cell_type": "code",
   "execution_count": 55,
   "id": "84e6fa75",
   "metadata": {},
   "outputs": [
    {
     "data": {
      "text/plain": [
       "<matplotlib.image.AxesImage at 0x220be7770a0>"
      ]
     },
     "execution_count": 55,
     "metadata": {},
     "output_type": "execute_result"
    },
    {
     "data": {
      "image/png": "[encoded data removed]",
      "text/plain": [
       "<Figure size 640x480 with 1 Axes>"
      ]
     },
     "metadata": {},
     "output_type": "display_data"
    }
   ],
   "source": [
    "plt.imshow(img)"
   ]
  },
  {
   "cell_type": "code",
   "execution_count": 56,
   "id": "873d70ce",
   "metadata": {},
   "outputs": [],
   "source": [
    "img = cv2.resize(img,(100,100))"
   ]
  },
  {
   "cell_type": "code",
   "execution_count": 57,
   "id": "e07ae79c",
   "metadata": {},
   "outputs": [],
   "source": [
    "img_input = img.reshape(1,100,100,3)"
   ]
  },
  {
   "cell_type": "code",
   "execution_count": 59,
   "id": "08eab628",
   "metadata": {},
   "outputs": [
    {
     "name": "stdout",
     "output_type": "stream",
     "text": [
      "1/1 [==============================] - 0s 32ms/step\n"
     ]
    }
   ],
   "source": [
    "pred=cnn.predict(img_input)"
   ]
  },
  {
   "cell_type": "code",
   "execution_count": 60,
   "id": "a96c7976",
   "metadata": {},
   "outputs": [
    {
     "data": {
      "text/plain": [
       "array([[1.3123141e-10]], dtype=float32)"
      ]
     },
     "execution_count": 60,
     "metadata": {},
     "output_type": "execute_result"
    }
   ],
   "source": [
    "pred"
   ]
  },
  {
   "cell_type": "code",
   "execution_count": 63,
   "id": "cabbe39c",
   "metadata": {},
   "outputs": [
    {
     "data": {
      "text/plain": [
       "1.3123141462401122e-10"
      ]
     },
     "execution_count": 63,
     "metadata": {},
     "output_type": "execute_result"
    }
   ],
   "source": [
    "float(pred)"
   ]
  }
 ],
 "metadata": {
  "kernelspec": {
   "display_name": "Python 3 (ipykernel)",
   "language": "python",
   "name": "python3"
  },
  "language_info": {
   "codemirror_mode": {
    "name": "ipython",
    "version": 3
   },
   "file_extension": ".py",
   "mimetype": "text/x-python",
   "name": "python",
   "nbconvert_exporter": "python",
   "pygments_lexer": "ipython3",
   "version": "3.9.7"
  }
 },
 "nbformat": 4,
 "nbformat_minor": 5
}
